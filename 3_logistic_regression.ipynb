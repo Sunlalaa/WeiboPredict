{
 "cells": [
  {
   "cell_type": "code",
   "execution_count": 1,
   "metadata": {},
   "outputs": [],
   "source": [
    "import pandas as pd\n",
    "import numpy as np\n",
    "import statsmodels.api as sm\n",
    "import warnings\n",
    "warnings.filterwarnings(\"ignore\")\n",
    "import matplotlib.pyplot as plt"
   ]
  },
  {
   "cell_type": "code",
   "execution_count": 2,
   "metadata": {},
   "outputs": [],
   "source": [
    "data_train=pd.read_csv('data_train.txt',index_col=[0],header=0)\n",
    "data_valid=pd.read_csv('data_valid.txt',index_col=[0],header=0)\n",
    "data_predict=pd.read_csv('data_predict.txt',index_col=[0],header=0)"
   ]
  },
  {
   "cell_type": "code",
   "execution_count": 3,
   "metadata": {},
   "outputs": [],
   "source": [
    "#data_train.columns"
   ]
  },
  {
   "cell_type": "code",
   "execution_count": 4,
   "metadata": {},
   "outputs": [],
   "source": [
    "#补充是否为夜晚（2点到5点）的二元变量\n",
    "data_train['night']=data_train['time_hour'].apply(lambda x: 1 if (x>1)&(x<6) else 0)\n",
    "data_valid['night']=data_valid['time_hour'].apply(lambda x: 1 if (x>1)&(x<6) else 0)\n",
    "data_predict['night']=data_predict['time_hour'].apply(lambda x: 1 if (x>1)&(x<6) else 0)"
   ]
  },
  {
   "cell_type": "code",
   "execution_count": 5,
   "metadata": {},
   "outputs": [],
   "source": [
    "train_subset=data_train.loc[:,['repost','comments','likes','tfidf','number_in_train','forward_max','comment_max', 'like_max','forward_mean',\n",
    "       'comment_mean', 'like_mean','time_weekend','panduan','length_all','length_chinese','sharing','book',\n",
    "       'mention','emoji', 'video','http','title','hotwords', 'keywords','is_noise','stock','night','lottery']]\n",
    "valid_subset=data_valid.loc[:,['repost','comments','likes','tfidf','number_in_train','forward_max','comment_max', 'like_max','forward_mean',\n",
    "       'comment_mean', 'like_mean','time_weekend','panduan','length_all','length_chinese','sharing','book',\n",
    "       'mention','emoji', 'video','http','title','hotwords', 'keywords','is_noise','stock','night','lottery']]"
   ]
  },
  {
   "cell_type": "code",
   "execution_count": 6,
   "metadata": {},
   "outputs": [],
   "source": [
    "#将互动量为0的数据标记为is_zero\n",
    "train_subset['is_zero']=0\n",
    "valid_subset['is_zero']=0\n",
    "train_subset['is_zero'][(train_subset['comments']+train_subset['repost']+train_subset['likes'])==0]=1\n",
    "valid_subset['is_zero'][(valid_subset['comments']+valid_subset['repost']+valid_subset['likes'])==0]=1"
   ]
  },
  {
   "cell_type": "code",
   "execution_count": 7,
   "metadata": {},
   "outputs": [],
   "source": [
    "#valid_subset.tail()"
   ]
  },
  {
   "cell_type": "code",
   "execution_count": 8,
   "metadata": {},
   "outputs": [],
   "source": [
    "#设置模型的自变量和因变量\n",
    "y_train=train_subset['is_zero']\n",
    "x_train=train_subset[['tfidf','number_in_train','forward_max','forward_mean','time_weekend','length_all','sharing','book',\n",
    "       'mention','emoji', 'video','http','title','hotwords', 'keywords','stock','is_noise','night','lottery']]\n",
    "x_train=sm.add_constant(x_train)\n",
    "x_valid=valid_subset[['tfidf','number_in_train','forward_max','forward_mean','time_weekend','length_all','sharing','book',\n",
    "       'mention','emoji', 'video','http','title','hotwords', 'keywords','stock','is_noise','night','lottery']]\n",
    "x_valid=sm.add_constant(x_valid)"
   ]
  },
  {
   "cell_type": "code",
   "execution_count": 9,
   "metadata": {},
   "outputs": [
    {
     "name": "stdout",
     "output_type": "stream",
     "text": [
      "Optimization terminated successfully.\n",
      "         Current function value: 0.531904\n",
      "         Iterations 9\n",
      "                           Logit Regression Results                           \n",
      "==============================================================================\n",
      "Dep. Variable:                is_zero   No. Observations:              1040874\n",
      "Model:                          Logit   Df Residuals:                  1040854\n",
      "Method:                           MLE   Df Model:                           19\n",
      "Date:                Sun, 12 Jan 2020   Pseudo R-squ.:                  0.1810\n",
      "Time:                        13:29:40   Log-Likelihood:            -5.5365e+05\n",
      "converged:                       True   LL-Null:                   -6.7599e+05\n",
      "Covariance Type:            nonrobust   LLR p-value:                     0.000\n",
      "===================================================================================\n",
      "                      coef    std err          z      P>|z|      [0.025      0.975]\n",
      "-----------------------------------------------------------------------------------\n",
      "const               0.3129      0.012     26.403      0.000       0.290       0.336\n",
      "tfidf               0.0306      0.002     17.001      0.000       0.027       0.034\n",
      "number_in_train     0.0001   1.08e-06     94.046      0.000    9.93e-05       0.000\n",
      "forward_max     -9.147e-05   1.46e-05     -6.258      0.000      -0.000   -6.28e-05\n",
      "forward_mean       -0.1979      0.001   -160.760      0.000      -0.200      -0.195\n",
      "time_weekend       -0.0506      0.005     -9.381      0.000      -0.061      -0.040\n",
      "length_all         -0.0013   6.19e-05    -21.292      0.000      -0.001      -0.001\n",
      "sharing             0.0606      0.008      7.659      0.000       0.045       0.076\n",
      "book                0.1315      0.010     13.786      0.000       0.113       0.150\n",
      "mention             0.2222      0.006     34.941      0.000       0.210       0.235\n",
      "emoji              -0.3634      0.007    -54.116      0.000      -0.377      -0.350\n",
      "video               0.1764      0.031      5.744      0.000       0.116       0.237\n",
      "http                0.9429      0.006    171.334      0.000       0.932       0.954\n",
      "title              -0.3152      0.009    -36.352      0.000      -0.332      -0.298\n",
      "hotwords           -0.0654      0.011     -5.923      0.000      -0.087      -0.044\n",
      "keywords           -0.1553      0.010    -15.543      0.000      -0.175      -0.136\n",
      "stock               0.9832      0.040     24.323      0.000       0.904       1.062\n",
      "is_noise            0.5013      0.006     78.701      0.000       0.489       0.514\n",
      "night               0.1419      0.013     10.819      0.000       0.116       0.168\n",
      "lottery             1.5636      0.019     81.148      0.000       1.526       1.601\n",
      "===================================================================================\n"
     ]
    }
   ],
   "source": [
    "#拟合logit模型\n",
    "lr=sm.Logit(y_train,x_train)\n",
    "result=lr.fit()\n",
    "print(result.summary())"
   ]
  },
  {
   "cell_type": "code",
   "execution_count": 10,
   "metadata": {},
   "outputs": [],
   "source": [
    "y_hat=result.predict(x_train)\n",
    "compare=pd.DataFrame({'predict':y_hat,'actual':train_subset['is_zero']})"
   ]
  },
  {
   "cell_type": "code",
   "execution_count": 11,
   "metadata": {},
   "outputs": [],
   "source": [
    "#compare[compare['predict']>0.9].describe()"
   ]
  },
  {
   "cell_type": "code",
   "execution_count": 12,
   "metadata": {},
   "outputs": [],
   "source": [
    "#设置不同的阈值，计算TPR和FPR\n",
    "criterion=np.arange(0.3,1,0.01)\n",
    "num=len(criterion)\n",
    "TPR=np.zeros(num)\n",
    "FPR=np.zeros(num)\n",
    "true_index=compare['actual']==1\n",
    "false_index=compare['actual']==0\n",
    "for ii in range(num):\n",
    "    compare['y_hat']=compare['predict']>criterion[ii]\n",
    "    TPR[ii]=sum(compare['y_hat'][true_index])/sum(true_index)\n",
    "    FPR[ii]=sum(compare['y_hat'][false_index])/sum(false_index)"
   ]
  },
  {
   "cell_type": "code",
   "execution_count": 13,
   "metadata": {},
   "outputs": [
    {
     "data": {
      "image/png": "[encoded data removed]",
      "text/plain": [
       "<Figure size 432x288 with 1 Axes>"
      ]
     },
     "metadata": {
      "needs_background": "light"
     },
     "output_type": "display_data"
    }
   ],
   "source": [
    "#画出ROC曲线\n",
    "fig, ax = plt.subplots(figsize=(6, 4))\n",
    "ax.plot(FPR,TPR)\n",
    "ax.set_title('ROC Curve')\n",
    "ax.set_xlabel('False Positive Ratio')\n",
    "ax.set_ylabel('True Positive Ratio')\n",
    "plt.show()\n",
    "fig.savefig('figure.pdf',bb_inches='tight')\n"
   ]
  },
  {
   "cell_type": "code",
   "execution_count": 14,
   "metadata": {},
   "outputs": [
    {
     "data": {
      "text/plain": [
       "0.6700000000000004"
      ]
     },
     "execution_count": 14,
     "metadata": {},
     "output_type": "execute_result"
    }
   ],
   "source": [
    "#确认最优的阈值0.67\n",
    "distance=(1-TPR)**2+FPR**2\n",
    "optimal_index=np.argmin(distance)\n",
    "threshold=criterion[optimal_index]\n",
    "threshold"
   ]
  },
  {
   "cell_type": "code",
   "execution_count": 35,
   "metadata": {},
   "outputs": [],
   "source": [
    "#根据最优阈值设立logit的判断结果，1为0互动量，0为有互动量数据\n",
    "data_train['logit']=compare['predict'].apply(lambda x: 1 if x>threshold else 0)\n",
    "y_hat_valid=result.predict(x_valid)\n",
    "data_valid['logit']=(y_hat_valid>threshold).astype(int)"
   ]
  },
  {
   "cell_type": "code",
   "execution_count": 15,
   "metadata": {},
   "outputs": [],
   "source": [
    "data_train['logit']=compare['predict'].apply(lambda x: 1 if x>threshold else 0)\n",
    "predict_subset=data_predict.loc[:,['tfidf','number_in_train','forward_max','comment_max', 'like_max','forward_mean',\n",
    "       'comment_mean', 'like_mean','time_weekend','panduan','length_all','length_chinese','sharing','book',\n",
    "       'mention','emoji', 'video','http','title','hotwords', 'keywords','is_noise','stock','night','lottery']]\n",
    "x_predict=predict_subset[['tfidf','number_in_train','forward_max','forward_mean','time_weekend','length_all','sharing','book',\n",
    "       'mention','emoji', 'video','http','title','hotwords', 'keywords','stock','is_noise','night','lottery']]\n",
    "x_predict=sm.add_constant(x_predict)\n",
    "y_hat_predict=result.predict(x_predict)\n",
    "data_predict['logit']=(y_hat_predict>threshold).astype(int)"
   ]
  },
  {
   "cell_type": "code",
   "execution_count": 36,
   "metadata": {},
   "outputs": [],
   "source": [
    "#data_train['logit'].tail()"
   ]
  },
  {
   "cell_type": "code",
   "execution_count": 37,
   "metadata": {},
   "outputs": [],
   "source": [
    "#compare['predict'].tail()"
   ]
  },
  {
   "cell_type": "code",
   "execution_count": 38,
   "metadata": {},
   "outputs": [],
   "source": [
    "#data_valid['logit'].head()"
   ]
  },
  {
   "cell_type": "code",
   "execution_count": 39,
   "metadata": {},
   "outputs": [],
   "source": [
    "#y_hat_valid"
   ]
  },
  {
   "cell_type": "code",
   "execution_count": 40,
   "metadata": {},
   "outputs": [],
   "source": [
    "data_train.to_csv('data_train.txt',header=True)\n",
    "data_valid.to_csv('data_valid.txt',header=True)"
   ]
  },
  {
   "cell_type": "code",
   "execution_count": 17,
   "metadata": {},
   "outputs": [],
   "source": [
    "\n",
    "data_predict.to_csv('data_predict.txt',header=True)"
   ]
  },
  {
   "cell_type": "code",
   "execution_count": null,
   "metadata": {},
   "outputs": [],
   "source": []
  }
 ],
 "metadata": {
  "kernelspec": {
   "display_name": "Python 3",
   "language": "python",
   "name": "python3"
  },
  "language_info": {
   "codemirror_mode": {
    "name": "ipython",
    "version": 3
   },
   "file_extension": ".py",
   "mimetype": "text/x-python",
   "name": "python",
   "nbconvert_exporter": "python",
   "pygments_lexer": "ipython3",
   "version": "3.7.4"
  }
 },
 "nbformat": 4,
 "nbformat_minor": 4
}
