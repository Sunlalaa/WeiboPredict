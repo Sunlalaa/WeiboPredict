{
 "cells": [
  {
   "cell_type": "code",
   "execution_count": 1,
   "metadata": {},
   "outputs": [],
   "source": [
    "import pandas as pd \n",
    "import numpy as np"
   ]
  },
  {
   "cell_type": "code",
   "execution_count": 2,
   "metadata": {},
   "outputs": [],
   "source": [
    "def zero_prediction(data_test):\n",
    "    data_test['repost_hat']=0\n",
    "    data_test['comments_hat']=0\n",
    "    data_test['likes_hat']=0\n",
    "    return data_test"
   ]
  },
  {
   "cell_type": "code",
   "execution_count": 3,
   "metadata": {},
   "outputs": [],
   "source": [
    "#计算MSE\n",
    "def MSE(data_test):\n",
    "    subset=data_test[['repost','comments','likes','repost_hat','comments_hat','likes_hat']]\n",
    "    MSE_set=[]\n",
    "    for ii in ['repost','comments','likes']:\n",
    "        MSE=sum((subset[ii]-subset[(ii+'_hat')])**2)/len(subset[ii])\n",
    "        MSE_set.append(MSE)\n",
    "    return MSE_set"
   ]
  },
  {
   "cell_type": "code",
   "execution_count": 4,
   "metadata": {},
   "outputs": [],
   "source": [
    "def precision(data):\n",
    "    data['deviation_repost']=list(map(lambda x, y: abs(x-y)/(y+5), data['repost_hat'],data['repost']))\n",
    "#print (data['deviation_repost'])\n",
    "    data['deviation_likes']=list(map(lambda x, y: abs(x-y)/(y+3), data['likes_hat'],data['likes']))\n",
    "    #print (data['deviation_likes'])\n",
    "    data['deviation_comments']=list(map(lambda x, y: abs(x-y)/(y+3), data['comments_hat'],data['comments']))\n",
    "    #print (data['deviation_comments'])\n",
    "    data['lcf_sum']=data['repost']+data['likes']+data['comments']\n",
    "#    print (data['lcf_sum'])\n",
    "    data['lcf_sum']=data['lcf_sum'].apply(lambda x: 100 if x>100 else x)\n",
    "    data['precision_1_-0.8']=1-0.5*data['deviation_repost']-0.25*data['deviation_likes']-0.25*data['deviation_comments']-0.8\n",
    "    #print (data['precision_1_-0.8'])\n",
    "    data.loc[data['precision_1_-0.8']<=0,'sgn']=0\n",
    "    data.loc[data['precision_1_-0.8']>0,'sgn']=1\n",
    "#    print (data['sgn'])\n",
    "    precision_=sum((data['lcf_sum']+1)*data['sgn'])/sum(data['lcf_sum']+1)\n",
    "    return precision_"
   ]
  },
  {
   "cell_type": "code",
   "execution_count": 7,
   "metadata": {},
   "outputs": [],
   "source": [
    "data_valid=pd.read_csv('data_valid.txt',index_col=[0],header=0)"
   ]
  },
  {
   "cell_type": "code",
   "execution_count": 8,
   "metadata": {},
   "outputs": [],
   "source": [
    "data_valid=zero_prediction(data_valid)"
   ]
  },
  {
   "cell_type": "code",
   "execution_count": 9,
   "metadata": {},
   "outputs": [
    {
     "data": {
      "text/plain": [
       "[7893.770088049768, 149.55957201949906, 1041.5029802295157]"
      ]
     },
     "execution_count": 9,
     "metadata": {},
     "output_type": "execute_result"
    }
   ],
   "source": [
    "MSE(data_valid)"
   ]
  },
  {
   "cell_type": "code",
   "execution_count": 10,
   "metadata": {},
   "outputs": [
    {
     "data": {
      "text/plain": [
       "0.2408603143197938"
      ]
     },
     "execution_count": 10,
     "metadata": {},
     "output_type": "execute_result"
    }
   ],
   "source": [
    "precision(data_valid)"
   ]
  },
  {
   "cell_type": "code",
   "execution_count": null,
   "metadata": {},
   "outputs": [],
   "source": []
  }
 ],
 "metadata": {
  "kernelspec": {
   "display_name": "Python 3",
   "language": "python",
   "name": "python3"
  },
  "language_info": {
   "codemirror_mode": {
    "name": "ipython",
    "version": 3
   },
   "file_extension": ".py",
   "mimetype": "text/x-python",
   "name": "python",
   "nbconvert_exporter": "python",
   "pygments_lexer": "ipython3",
   "version": "3.7.3"
  }
 },
 "nbformat": 4,
 "nbformat_minor": 2
}
