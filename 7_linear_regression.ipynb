{
 "cells": [
  {
   "cell_type": "code",
   "execution_count": 1,
   "metadata": {},
   "outputs": [],
   "source": [
    "import pandas as pd\n",
    "import numpy as np\n",
    "import statsmodels.api as sm\n",
    "import warnings\n",
    "warnings.filterwarnings(\"ignore\")"
   ]
  },
  {
   "cell_type": "code",
   "execution_count": 2,
   "metadata": {},
   "outputs": [],
   "source": [
    "def MSE(data_test):\n",
    "    subset=data_test[['repost','comments','likes','repost_hat','comments_hat','likes_hat']]\n",
    "    MSE_set=[]\n",
    "    for ii in ['repost','comments','likes']:\n",
    "        MSE=sum((subset[ii]-subset[(ii+'_hat')])**2)/len(subset[ii])\n",
    "        MSE_set.append(MSE)\n",
    "    return MSE_set"
   ]
  },
  {
   "cell_type": "code",
   "execution_count": 3,
   "metadata": {},
   "outputs": [],
   "source": [
    "def precision(data):\n",
    "    data['deviation_repost']=list(map(lambda x, y: abs(x-y)/(y+5), data['repost_hat'],data['repost']))\n",
    "#print (data['deviation_repost'])\n",
    "    data['deviation_likes']=list(map(lambda x, y: abs(x-y)/(y+3), data['likes_hat'],data['likes']))\n",
    "    #print (data['deviation_likes'])\n",
    "    data['deviation_comments']=list(map(lambda x, y: abs(x-y)/(y+3), data['comments_hat'],data['comments']))\n",
    "    #print (data['deviation_comments'])\n",
    "    data['lcf_sum']=data['repost']+data['likes']+data['comments']\n",
    "#    print (data['lcf_sum'])\n",
    "    data['lcf_sum']=data['lcf_sum'].apply(lambda x: 100 if x>100 else x)\n",
    "    data['precision_1_-0.8']=1-0.5*data['deviation_repost']-0.25*data['deviation_likes']-0.25*data['deviation_comments']-0.8\n",
    "    #print (data['precision_1_-0.8'])\n",
    "    data.loc[data['precision_1_-0.8']<=0,'sgn']=0\n",
    "    data.loc[data['precision_1_-0.8']>0,'sgn']=1\n",
    "#    print (data['sgn'])\n",
    "    precision_=sum((data['lcf_sum']+1)*data['sgn'])/sum(data['lcf_sum']+1)\n",
    "    return precision_"
   ]
  },
  {
   "cell_type": "code",
   "execution_count": 4,
   "metadata": {},
   "outputs": [],
   "source": [
    "data_train=pd.read_csv('data_train.txt',index_col=[0],header=0)\n",
    "data_valid=pd.read_csv('data_valid.txt',index_col=[0],header=0)"
   ]
  },
  {
   "cell_type": "code",
   "execution_count": 25,
   "metadata": {},
   "outputs": [],
   "source": [
    "data_valid['repost_hat']=0\n",
    "data_valid['comments_hat']=0\n",
    "data_valid['likes_hat']=0\n",
    "\n",
    "train_subset=data_train.loc[:,['repost','comments','likes','tfidf','number_in_train','forward_max','comment_max', 'like_max','forward_mean',\n",
    "       'comment_mean', 'like_mean','time_weekend','panduan','length_all','length_chinese','sharing','book',\n",
    "       'mention','emoji', 'video','http','title','hotwords', 'keywords','logit','stock','night','lottery']]\n",
    "valid_subset=data_valid.loc[:,['repost','comments','likes','tfidf','number_in_train','forward_max','comment_max', 'like_max','forward_mean',\n",
    "       'comment_mean', 'like_mean','time_weekend','panduan','length_all','length_chinese','sharing','book',\n",
    "       'mention','emoji', 'video','http','title','hotwords', 'keywords','logit','stock','night','lottery']]\n",
    "\n",
    "train_subset=train_subset[train_subset['logit']==0]\n",
    "valid_subset=valid_subset[valid_subset['logit']==0]\n"
   ]
  },
  {
   "cell_type": "code",
   "execution_count": 26,
   "metadata": {},
   "outputs": [],
   "source": [
    "#设置模型的自变量和因变量\n",
    "y1_train=train_subset['repost']\n",
    "y2_train=train_subset['comments']\n",
    "y3_train=train_subset['likes']\n",
    "x_train=train_subset[['tfidf','number_in_train','forward_max','forward_mean','time_weekend','length_all','sharing','book',\n",
    "       'mention','emoji', 'video','http','title','hotwords', 'keywords','stock','night','lottery']]\n",
    "x_train=sm.add_constant(x_train)\n",
    "x_valid=valid_subset[['tfidf','number_in_train','forward_max','forward_mean','time_weekend','length_all','sharing','book',\n",
    "       'mention','emoji', 'video','http','title','hotwords', 'keywords','stock','night','lottery']]\n",
    "x_valid=sm.add_constant(x_valid)"
   ]
  },
  {
   "cell_type": "code",
   "execution_count": 27,
   "metadata": {},
   "outputs": [],
   "source": [
    "#拟合线性回归模型\n",
    "lr1=sm.OLS(y1_train,x_train)\n",
    "result1=lr1.fit()\n",
    "lr2=sm.OLS(y2_train,x_train)\n",
    "result2=lr2.fit()\n",
    "lr3=sm.OLS(y3_train,x_train)\n",
    "result3=lr3.fit()"
   ]
  },
  {
   "cell_type": "code",
   "execution_count": 28,
   "metadata": {},
   "outputs": [],
   "source": [
    "#预测并将负数的值设为0\n",
    "y1_hat=result1.predict(x_valid)\n",
    "y2_hat=result2.predict(x_valid)\n",
    "y3_hat=result3.predict(x_valid)"
   ]
  },
  {
   "cell_type": "code",
   "execution_count": 29,
   "metadata": {},
   "outputs": [],
   "source": [
    "y1_hat[y1_hat<0]=0\n",
    "y2_hat[y2_hat<0]=0\n",
    "y3_hat[y3_hat<0]=0"
   ]
  },
  {
   "cell_type": "code",
   "execution_count": 37,
   "metadata": {},
   "outputs": [],
   "source": [
    "#data_valid[data_valid['logit']==0]"
   ]
  },
  {
   "cell_type": "code",
   "execution_count": 34,
   "metadata": {},
   "outputs": [],
   "source": [
    "data_valid['repost_hat'][data_valid['logit']==0]=y1_hat\n",
    "data_valid['comments_hat'][data_valid['logit']==0]=y2_hat\n",
    "data_valid['likes_hat'][data_valid['logit']==0]=y3_hat"
   ]
  },
  {
   "cell_type": "code",
   "execution_count": 35,
   "metadata": {},
   "outputs": [
    {
     "data": {
      "text/plain": [
       "[8035.614269923528, 152.25796204400044, 1033.92549676867]"
      ]
     },
     "execution_count": 35,
     "metadata": {},
     "output_type": "execute_result"
    }
   ],
   "source": [
    "MSE(data_valid)"
   ]
  },
  {
   "cell_type": "code",
   "execution_count": 36,
   "metadata": {},
   "outputs": [
    {
     "data": {
      "text/plain": [
       "0.21542057398348569"
      ]
     },
     "execution_count": 36,
     "metadata": {},
     "output_type": "execute_result"
    }
   ],
   "source": [
    "precision(data_valid)"
   ]
  },
  {
   "cell_type": "code",
   "execution_count": null,
   "metadata": {},
   "outputs": [],
   "source": []
  }
 ],
 "metadata": {
  "kernelspec": {
   "display_name": "Python 3",
   "language": "python",
   "name": "python3"
  },
  "language_info": {
   "codemirror_mode": {
    "name": "ipython",
    "version": 3
   },
   "file_extension": ".py",
   "mimetype": "text/x-python",
   "name": "python",
   "nbconvert_exporter": "python",
   "pygments_lexer": "ipython3",
   "version": "3.7.3"
  }
 },
 "nbformat": 4,
 "nbformat_minor": 2
}
