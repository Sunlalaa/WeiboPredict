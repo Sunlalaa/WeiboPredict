{
 "cells": [
  {
   "cell_type": "code",
   "execution_count": 1,
   "metadata": {},
   "outputs": [],
   "source": [
    "import pandas as pd\n",
    "import re\n",
    "from math import isnan    \n",
    "import numpy as np\n",
    "import string\n",
    "import sys\n",
    "import matplotlib.pyplot as plt\n",
    "import seaborn as sns\n",
    "import time\n",
    "import datetime"
   ]
  },
  {
   "cell_type": "code",
   "execution_count": 2,
   "metadata": {},
   "outputs": [
    {
     "data": {
      "text/html": [
       "<div>\n",
       "<style scoped>\n",
       "    .dataframe tbody tr th:only-of-type {\n",
       "        vertical-align: middle;\n",
       "    }\n",
       "\n",
       "    .dataframe tbody tr th {\n",
       "        vertical-align: top;\n",
       "    }\n",
       "\n",
       "    .dataframe thead th {\n",
       "        text-align: right;\n",
       "    }\n",
       "</style>\n",
       "<table border=\"1\" class=\"dataframe\">\n",
       "  <thead>\n",
       "    <tr style=\"text-align: right;\">\n",
       "      <th></th>\n",
       "      <th>user_id</th>\n",
       "      <th>weibo_id</th>\n",
       "      <th>time</th>\n",
       "      <th>repost</th>\n",
       "      <th>comments</th>\n",
       "      <th>likes</th>\n",
       "      <th>text</th>\n",
       "    </tr>\n",
       "  </thead>\n",
       "  <tbody>\n",
       "    <tr>\n",
       "      <td>0</td>\n",
       "      <td>d38e9bed5d98110dc2489d0d1cac3c2a</td>\n",
       "      <td>7d45833d9865727a88b960b0603c19f6</td>\n",
       "      <td>2015-02-23 17:41:29</td>\n",
       "      <td>0</td>\n",
       "      <td>0</td>\n",
       "      <td>0</td>\n",
       "      <td>丽江旅游(sz002033)#股票##炒股##财经##理财##投资#推荐包赢股，盈利对半分成...</td>\n",
       "    </tr>\n",
       "    <tr>\n",
       "      <td>1</td>\n",
       "      <td>fa13974743d3fe6ff40d21b872325e9e</td>\n",
       "      <td>8169f1d45051e08ef213bf1106b1225d</td>\n",
       "      <td>2015-02-14 12:49:58</td>\n",
       "      <td>0</td>\n",
       "      <td>0</td>\n",
       "      <td>0</td>\n",
       "      <td>#丁辰灵的红包#挣钱是一种能力，抢红包拼的是技术。我抢到了丁辰灵 和@阚洪岩 一起发出的现金...</td>\n",
       "    </tr>\n",
       "    <tr>\n",
       "      <td>2</td>\n",
       "      <td>da534fe87e7a52777bee5c30573ed5fd</td>\n",
       "      <td>68cd0258c31c2c525f94febea2d9523b</td>\n",
       "      <td>2015-03-31 13:58:06</td>\n",
       "      <td>0</td>\n",
       "      <td>0</td>\n",
       "      <td>0</td>\n",
       "      <td>淘宝网这些傻逼。。。气的劳资有火没地儿发~尼玛，你们都瞎了</td>\n",
       "    </tr>\n",
       "    <tr>\n",
       "      <td>3</td>\n",
       "      <td>e06a22b7e065e559a1f0bf7841a85c51</td>\n",
       "      <td>00b9f86b4915aedb7db943c54fd19d59</td>\n",
       "      <td>2015-06-11 20:39:57</td>\n",
       "      <td>0</td>\n",
       "      <td>4</td>\n",
       "      <td>3</td>\n",
       "      <td>看点不能说的，你们都懂[笑cry]</td>\n",
       "    </tr>\n",
       "    <tr>\n",
       "      <td>4</td>\n",
       "      <td>f9828598f9664d4e347ef2048ce17734</td>\n",
       "      <td>c7f6f66044c0c5a3330e2c5371be6824</td>\n",
       "      <td>2015-03-10 18:02:38</td>\n",
       "      <td>0</td>\n",
       "      <td>0</td>\n",
       "      <td>0</td>\n",
       "      <td>111多张</td>\n",
       "    </tr>\n",
       "  </tbody>\n",
       "</table>\n",
       "</div>"
      ],
      "text/plain": [
       "                            user_id                          weibo_id  \\\n",
       "0  d38e9bed5d98110dc2489d0d1cac3c2a  7d45833d9865727a88b960b0603c19f6   \n",
       "1  fa13974743d3fe6ff40d21b872325e9e  8169f1d45051e08ef213bf1106b1225d   \n",
       "2  da534fe87e7a52777bee5c30573ed5fd  68cd0258c31c2c525f94febea2d9523b   \n",
       "3  e06a22b7e065e559a1f0bf7841a85c51  00b9f86b4915aedb7db943c54fd19d59   \n",
       "4  f9828598f9664d4e347ef2048ce17734  c7f6f66044c0c5a3330e2c5371be6824   \n",
       "\n",
       "                  time  repost  comments  likes  \\\n",
       "0  2015-02-23 17:41:29       0         0      0   \n",
       "1  2015-02-14 12:49:58       0         0      0   \n",
       "2  2015-03-31 13:58:06       0         0      0   \n",
       "3  2015-06-11 20:39:57       0         4      3   \n",
       "4  2015-03-10 18:02:38       0         0      0   \n",
       "\n",
       "                                                text  \n",
       "0  丽江旅游(sz002033)#股票##炒股##财经##理财##投资#推荐包赢股，盈利对半分成...  \n",
       "1  #丁辰灵的红包#挣钱是一种能力，抢红包拼的是技术。我抢到了丁辰灵 和@阚洪岩 一起发出的现金...  \n",
       "2                      淘宝网这些傻逼。。。气的劳资有火没地儿发~尼玛，你们都瞎了  \n",
       "3                                  看点不能说的，你们都懂[笑cry]  \n",
       "4                                              111多张  "
      ]
     },
     "execution_count": 2,
     "metadata": {},
     "output_type": "execute_result"
    }
   ],
   "source": [
    "data=pd.read_csv('weibo_train_data.txt',sep='\\t',header=None)\n",
    "data.columns=['user_id','weibo_id','time','repost','comments','likes','text']\n",
    "data.head()"
   ]
  },
  {
   "cell_type": "markdown",
   "metadata": {},
   "source": [
    "# 一、 微博的用户特征 by 刘安蕾"
   ]
  },
  {
   "cell_type": "markdown",
   "metadata": {},
   "source": [
    "1. 历史数据的 range（最大值和最小值）, 平均值和方差，大于平均值的次数。\n",
    "2. 在训练集中出现的次数（发博频率） （需要补充）\n",
    "3. 在训练集中收获转发的最高次数（估计粉丝量水平） （需要补充）\n",
    "4. 历史评论中位数/转发中位数（账号类型）（没懂什么意思）"
   ]
  },
  {
   "cell_type": "code",
   "execution_count": 7,
   "metadata": {},
   "outputs": [
    {
     "data": {
      "text/html": [
       "<div>\n",
       "<style scoped>\n",
       "    .dataframe tbody tr th:only-of-type {\n",
       "        vertical-align: middle;\n",
       "    }\n",
       "\n",
       "    .dataframe tbody tr th {\n",
       "        vertical-align: top;\n",
       "    }\n",
       "\n",
       "    .dataframe thead th {\n",
       "        text-align: right;\n",
       "    }\n",
       "</style>\n",
       "<table border=\"1\" class=\"dataframe\">\n",
       "  <thead>\n",
       "    <tr style=\"text-align: right;\">\n",
       "      <th></th>\n",
       "      <th>user_id</th>\n",
       "      <th>weibo_id</th>\n",
       "      <th>time</th>\n",
       "      <th>repost</th>\n",
       "      <th>comments</th>\n",
       "      <th>likes</th>\n",
       "      <th>text</th>\n",
       "      <th>number_in_train</th>\n",
       "      <th>forward_max</th>\n",
       "      <th>comment_max</th>\n",
       "      <th>...</th>\n",
       "      <th>like_mean</th>\n",
       "      <th>forward_more_ave_pr</th>\n",
       "      <th>comment_more_ave_pr</th>\n",
       "      <th>like_more_ave_pr</th>\n",
       "      <th>max_f/l</th>\n",
       "      <th>max_c/l</th>\n",
       "      <th>min_f/l</th>\n",
       "      <th>min_c/l</th>\n",
       "      <th>mean_f/l</th>\n",
       "      <th>mean_c/l</th>\n",
       "    </tr>\n",
       "  </thead>\n",
       "  <tbody>\n",
       "    <tr>\n",
       "      <th>0</th>\n",
       "      <td>d38e9bed5d98110dc2489d0d1cac3c2a</td>\n",
       "      <td>7d45833d9865727a88b960b0603c19f6</td>\n",
       "      <td>2015-02-23 17:41:29</td>\n",
       "      <td>0.0</td>\n",
       "      <td>0.0</td>\n",
       "      <td>0.0</td>\n",
       "      <td>丽江旅游(sz002033)#股票##炒股##财经##理财##投资#推荐包赢股，盈利对半分成...</td>\n",
       "      <td>d38e9bed5d98110dc2489d0d1cac3c2ad38e9bed5d9811...</td>\n",
       "      <td>114.0</td>\n",
       "      <td>48.0</td>\n",
       "      <td>...</td>\n",
       "      <td>0.061465</td>\n",
       "      <td>0.020924</td>\n",
       "      <td>0.024412</td>\n",
       "      <td>0.001744</td>\n",
       "      <td>22.8</td>\n",
       "      <td>9.6</td>\n",
       "      <td>0.0</td>\n",
       "      <td>0.0</td>\n",
       "      <td>17.085106</td>\n",
       "      <td>5.680851</td>\n",
       "    </tr>\n",
       "    <tr>\n",
       "      <th>1</th>\n",
       "      <td>d38e9bed5d98110dc2489d0d1cac3c2a</td>\n",
       "      <td>00755196c77936bf44656ada98291c59</td>\n",
       "      <td>2015-07-13 19:24:50</td>\n",
       "      <td>0.0</td>\n",
       "      <td>0.0</td>\n",
       "      <td>0.0</td>\n",
       "      <td>想开了就是幸福，想不开就是痛苦…http://t.cn/RLqzYa1</td>\n",
       "      <td>d38e9bed5d98110dc2489d0d1cac3c2ad38e9bed5d9811...</td>\n",
       "      <td>114.0</td>\n",
       "      <td>48.0</td>\n",
       "      <td>...</td>\n",
       "      <td>0.061465</td>\n",
       "      <td>0.020924</td>\n",
       "      <td>0.024412</td>\n",
       "      <td>0.001744</td>\n",
       "      <td>22.8</td>\n",
       "      <td>9.6</td>\n",
       "      <td>0.0</td>\n",
       "      <td>0.0</td>\n",
       "      <td>17.085106</td>\n",
       "      <td>5.680851</td>\n",
       "    </tr>\n",
       "    <tr>\n",
       "      <th>2</th>\n",
       "      <td>d38e9bed5d98110dc2489d0d1cac3c2a</td>\n",
       "      <td>4fedf3888b1e16592f0e0bdc8b393845</td>\n",
       "      <td>2015-03-14 21:22:57</td>\n",
       "      <td>0.0</td>\n",
       "      <td>0.0</td>\n",
       "      <td>0.0</td>\n",
       "      <td>300419浩丰科技#股票##股神##股市##炒股##财经##理财##投资# 股票庄家，要求...</td>\n",
       "      <td>d38e9bed5d98110dc2489d0d1cac3c2ad38e9bed5d9811...</td>\n",
       "      <td>114.0</td>\n",
       "      <td>48.0</td>\n",
       "      <td>...</td>\n",
       "      <td>0.061465</td>\n",
       "      <td>0.020924</td>\n",
       "      <td>0.024412</td>\n",
       "      <td>0.001744</td>\n",
       "      <td>22.8</td>\n",
       "      <td>9.6</td>\n",
       "      <td>0.0</td>\n",
       "      <td>0.0</td>\n",
       "      <td>17.085106</td>\n",
       "      <td>5.680851</td>\n",
       "    </tr>\n",
       "    <tr>\n",
       "      <th>3</th>\n",
       "      <td>d38e9bed5d98110dc2489d0d1cac3c2a</td>\n",
       "      <td>91be0b8612265aae32725cd4fa80b222</td>\n",
       "      <td>2015-06-18 16:25:36</td>\n",
       "      <td>0.0</td>\n",
       "      <td>0.0</td>\n",
       "      <td>0.0</td>\n",
       "      <td>女性被人占便宜从来不生气，是什么心态？http://t.cn/R2n2pRz</td>\n",
       "      <td>d38e9bed5d98110dc2489d0d1cac3c2ad38e9bed5d9811...</td>\n",
       "      <td>114.0</td>\n",
       "      <td>48.0</td>\n",
       "      <td>...</td>\n",
       "      <td>0.061465</td>\n",
       "      <td>0.020924</td>\n",
       "      <td>0.024412</td>\n",
       "      <td>0.001744</td>\n",
       "      <td>22.8</td>\n",
       "      <td>9.6</td>\n",
       "      <td>0.0</td>\n",
       "      <td>0.0</td>\n",
       "      <td>17.085106</td>\n",
       "      <td>5.680851</td>\n",
       "    </tr>\n",
       "    <tr>\n",
       "      <th>4</th>\n",
       "      <td>d38e9bed5d98110dc2489d0d1cac3c2a</td>\n",
       "      <td>bd2af99ecf1298f5539f0ddfcdd3ed64</td>\n",
       "      <td>2015-02-23 17:35:31</td>\n",
       "      <td>0.0</td>\n",
       "      <td>0.0</td>\n",
       "      <td>0.0</td>\n",
       "      <td>网宿科技(sz300017)#股票##炒股##财经##理财##投资#推荐包赢股，盈利对半分成...</td>\n",
       "      <td>d38e9bed5d98110dc2489d0d1cac3c2ad38e9bed5d9811...</td>\n",
       "      <td>114.0</td>\n",
       "      <td>48.0</td>\n",
       "      <td>...</td>\n",
       "      <td>0.061465</td>\n",
       "      <td>0.020924</td>\n",
       "      <td>0.024412</td>\n",
       "      <td>0.001744</td>\n",
       "      <td>22.8</td>\n",
       "      <td>9.6</td>\n",
       "      <td>0.0</td>\n",
       "      <td>0.0</td>\n",
       "      <td>17.085106</td>\n",
       "      <td>5.680851</td>\n",
       "    </tr>\n",
       "  </tbody>\n",
       "</table>\n",
       "<p>5 rows × 26 columns</p>\n",
       "</div>"
      ],
      "text/plain": [
       "                            user_id                          weibo_id  \\\n",
       "0  d38e9bed5d98110dc2489d0d1cac3c2a  7d45833d9865727a88b960b0603c19f6   \n",
       "1  d38e9bed5d98110dc2489d0d1cac3c2a  00755196c77936bf44656ada98291c59   \n",
       "2  d38e9bed5d98110dc2489d0d1cac3c2a  4fedf3888b1e16592f0e0bdc8b393845   \n",
       "3  d38e9bed5d98110dc2489d0d1cac3c2a  91be0b8612265aae32725cd4fa80b222   \n",
       "4  d38e9bed5d98110dc2489d0d1cac3c2a  bd2af99ecf1298f5539f0ddfcdd3ed64   \n",
       "\n",
       "                  time  repost  comments  likes  \\\n",
       "0  2015-02-23 17:41:29     0.0       0.0    0.0   \n",
       "1  2015-07-13 19:24:50     0.0       0.0    0.0   \n",
       "2  2015-03-14 21:22:57     0.0       0.0    0.0   \n",
       "3  2015-06-18 16:25:36     0.0       0.0    0.0   \n",
       "4  2015-02-23 17:35:31     0.0       0.0    0.0   \n",
       "\n",
       "                                                text  \\\n",
       "0  丽江旅游(sz002033)#股票##炒股##财经##理财##投资#推荐包赢股，盈利对半分成...   \n",
       "1                想开了就是幸福，想不开就是痛苦…http://t.cn/RLqzYa1   \n",
       "2  300419浩丰科技#股票##股神##股市##炒股##财经##理财##投资# 股票庄家，要求...   \n",
       "3             女性被人占便宜从来不生气，是什么心态？http://t.cn/R2n2pRz   \n",
       "4  网宿科技(sz300017)#股票##炒股##财经##理财##投资#推荐包赢股，盈利对半分成...   \n",
       "\n",
       "                                     number_in_train  forward_max  \\\n",
       "0  d38e9bed5d98110dc2489d0d1cac3c2ad38e9bed5d9811...        114.0   \n",
       "1  d38e9bed5d98110dc2489d0d1cac3c2ad38e9bed5d9811...        114.0   \n",
       "2  d38e9bed5d98110dc2489d0d1cac3c2ad38e9bed5d9811...        114.0   \n",
       "3  d38e9bed5d98110dc2489d0d1cac3c2ad38e9bed5d9811...        114.0   \n",
       "4  d38e9bed5d98110dc2489d0d1cac3c2ad38e9bed5d9811...        114.0   \n",
       "\n",
       "   comment_max  ...  like_mean  forward_more_ave_pr  comment_more_ave_pr  \\\n",
       "0         48.0  ...   0.061465             0.020924             0.024412   \n",
       "1         48.0  ...   0.061465             0.020924             0.024412   \n",
       "2         48.0  ...   0.061465             0.020924             0.024412   \n",
       "3         48.0  ...   0.061465             0.020924             0.024412   \n",
       "4         48.0  ...   0.061465             0.020924             0.024412   \n",
       "\n",
       "   like_more_ave_pr  max_f/l  max_c/l  min_f/l  min_c/l   mean_f/l  mean_c/l  \n",
       "0          0.001744     22.8      9.6      0.0      0.0  17.085106  5.680851  \n",
       "1          0.001744     22.8      9.6      0.0      0.0  17.085106  5.680851  \n",
       "2          0.001744     22.8      9.6      0.0      0.0  17.085106  5.680851  \n",
       "3          0.001744     22.8      9.6      0.0      0.0  17.085106  5.680851  \n",
       "4          0.001744     22.8      9.6      0.0      0.0  17.085106  5.680851  \n",
       "\n",
       "[5 rows x 26 columns]"
      ]
     },
     "execution_count": 7,
     "metadata": {},
     "output_type": "execute_result"
    }
   ],
   "source": [
    "def process_max(data):\n",
    "    ###求训练集中出现的次数\n",
    "    df_processnum=data.groupby('user_id').agg({'user_id':np.sum})\n",
    "    df_processnum.columns=['number_in_train']\n",
    "    df_processnum.reset_index(inplace = True)\n",
    "    data =pd.merge(data, df_processnum, on=['user_id']).fillna(0)\n",
    "    ###求最大值\n",
    "    df_processmax=data.groupby('user_id').agg({'repost':np.max,'comments':np.max,'likes':np.max})\n",
    "#    print (df_processmax.columns)\n",
    "    df_processmax.columns=['forward_max','comment_max','like_max']\n",
    "    df_processmax.reset_index(inplace = True)\n",
    "    data =pd.merge(data, df_processmax, on=['user_id']).fillna(0)\n",
    "    ###求最小值\n",
    "    df_processmin=data.groupby('user_id').agg({'repost':np.min,'comments':np.min,'likes':np.min})\n",
    "    df_processmin.columns=['forward_min','comment_min','like_min']\n",
    "    df_processmin.reset_index(inplace = True)\n",
    "    data =pd.merge(data, df_processmin, on=['user_id']).fillna(0)\n",
    "    ####求平均值\n",
    "    df_processmean=data.groupby('user_id').agg({'repost':np.mean,'comments':np.mean,'likes':np.mean})\n",
    "    df_processmean.columns=['forward_mean','comment_mean','like_mean']\n",
    "    df_processmean.reset_index(inplace = True)\n",
    "    data =pd.merge(data, df_processmean, on=['user_id']).fillna(0)\n",
    "#####求某一用户发的微博互动大于平均值的概率\n",
    "    daa=pd.DataFrame({'user_id':data['user_id'].value_counts()})\n",
    "    daa.reset_index(inplace=True)\n",
    "    daa.columns=['user_id','count']\n",
    "    ###统计大于平均值的发博次数\n",
    "    forward_ave=np.mean(data['repost'])\n",
    "    comment_ave=np.mean(data['comments'])\n",
    "    like_ave=np.mean(data['likes'])\n",
    "#    print (forward_ave,comment_ave,like_ave)\n",
    "    data['forward_judge']=data['repost'].apply(lambda x:1 if x>forward_ave else 0)\n",
    "    data['comment_judge']=data['comments'].apply(lambda x:1 if x>comment_ave else 0)\n",
    "    data['like_judge']=data['likes'].apply(lambda x:1 if x>like_ave else 0)\n",
    "    more_ave=data.groupby('user_id').agg({'forward_judge':np.sum,'comment_judge':np.sum,'like_judge':np.sum})\n",
    "    more_ave.columns=['forward_more_ave','comment_more_ave','like_more_ave']\n",
    "    more_ave.reset_index(inplace = True)\n",
    "    data.drop(['forward_judge','comment_judge','like_judge'],axis=1, inplace=True)\n",
    "    daa =pd.merge(more_ave, daa, on=['user_id'])\n",
    "    daa['forward_more_ave_pr']=daa['forward_more_ave']/daa['count']\n",
    "    daa['comment_more_ave_pr']=daa['comment_more_ave']/daa['count']\n",
    "    daa['like_more_ave_pr']=daa['like_more_ave']/daa['count']\n",
    "    daa.drop(['forward_more_ave','comment_more_ave','like_more_ave','count'],axis=1, inplace=True)\n",
    "    data =pd.merge(data, daa, on=['user_id']).fillna(0)  \n",
    "    data['max_f/l']=pd.DataFrame({'max_f/l':list(map(lambda x, y: x/y if y>0 else 0, data['forward_max'],data['like_max']))})\n",
    "    data['max_c/l']=pd.DataFrame({'max_c/l':list(map(lambda x, y: x/y if y>0 else 0, data['comment_max'],data['like_max']))})\n",
    "    data['min_f/l']=pd.DataFrame({'min_f/l':list(map(lambda x, y: x/y if y>0 else 0, data['forward_min'],data['like_min']))})\n",
    "    data['min_c/l']=pd.DataFrame({'min_c/l':list(map(lambda x, y: x/y if y>0 else 0, data['comment_min'],data['like_min']))})\n",
    "    data['mean_f/l']=pd.DataFrame({'mean_f/l':list(map(lambda x, y: x/y if y>0 else 0, data['forward_mean'],data['like_mean']))})\n",
    "    data['mean_c/l']=pd.DataFrame({'mean_c/l':list(map(lambda x, y: x/y if y>0 else 0, data['comment_mean'],data['like_mean']))}) \n",
    "    return data\n",
    "\n",
    "data=process_max(data)\n",
    "data.head()"
   ]
  },
  {
   "cell_type": "markdown",
   "metadata": {},
   "source": [
    "# 二、用户的时间特征 by 武妍戎"
   ]
  },
  {
   "cell_type": "markdown",
   "metadata": {},
   "source": [
    "1. 是否周中，是否周末  \n",
    "2. 是否节假日  \n",
    "3. 发文时间段（需要结合数据再最后确定）  \n",
    "4. 工作日与节假日可能存在交互效应（作息不同）  \n",
    "5. 在训练集中出现次数 / 第一条为微博到最近一条微博时间(不懂什么意思)  "
   ]
  },
  {
   "cell_type": "code",
   "execution_count": 4,
   "metadata": {},
   "outputs": [
    {
     "data": {
      "text/html": [
       "<div>\n",
       "<style scoped>\n",
       "    .dataframe tbody tr th:only-of-type {\n",
       "        vertical-align: middle;\n",
       "    }\n",
       "\n",
       "    .dataframe tbody tr th {\n",
       "        vertical-align: top;\n",
       "    }\n",
       "\n",
       "    .dataframe thead th {\n",
       "        text-align: right;\n",
       "    }\n",
       "</style>\n",
       "<table border=\"1\" class=\"dataframe\">\n",
       "  <thead>\n",
       "    <tr style=\"text-align: right;\">\n",
       "      <th></th>\n",
       "      <th>user_id</th>\n",
       "      <th>weibo_id</th>\n",
       "      <th>time</th>\n",
       "      <th>repost</th>\n",
       "      <th>comments</th>\n",
       "      <th>likes</th>\n",
       "      <th>text</th>\n",
       "      <th>number_in_train</th>\n",
       "      <th>forward_max</th>\n",
       "      <th>comment_max</th>\n",
       "      <th>...</th>\n",
       "      <th>max_f/l</th>\n",
       "      <th>max_c/l</th>\n",
       "      <th>min_f/l</th>\n",
       "      <th>min_c/l</th>\n",
       "      <th>mean_f/l</th>\n",
       "      <th>mean_c/l</th>\n",
       "      <th>time_weekday</th>\n",
       "      <th>time_weekend</th>\n",
       "      <th>time_hour</th>\n",
       "      <th>panduan</th>\n",
       "    </tr>\n",
       "  </thead>\n",
       "  <tbody>\n",
       "    <tr>\n",
       "      <th>0</th>\n",
       "      <td>d38e9bed5d98110dc2489d0d1cac3c2a</td>\n",
       "      <td>7d45833d9865727a88b960b0603c19f6</td>\n",
       "      <td>2015-02-23 17:41:29</td>\n",
       "      <td>0</td>\n",
       "      <td>0</td>\n",
       "      <td>0</td>\n",
       "      <td>丽江旅游(sz002033)#股票##炒股##财经##理财##投资#推荐包赢股，盈利对半分成...</td>\n",
       "      <td>d38e9bed5d98110dc2489d0d1cac3c2ad38e9bed5d9811...</td>\n",
       "      <td>114</td>\n",
       "      <td>48</td>\n",
       "      <td>...</td>\n",
       "      <td>22.8</td>\n",
       "      <td>9.6</td>\n",
       "      <td>0.0</td>\n",
       "      <td>0.0</td>\n",
       "      <td>17.085106</td>\n",
       "      <td>5.680851</td>\n",
       "      <td>1</td>\n",
       "      <td>0</td>\n",
       "      <td>17</td>\n",
       "      <td>3.0</td>\n",
       "    </tr>\n",
       "    <tr>\n",
       "      <th>1</th>\n",
       "      <td>d38e9bed5d98110dc2489d0d1cac3c2a</td>\n",
       "      <td>00755196c77936bf44656ada98291c59</td>\n",
       "      <td>2015-07-13 19:24:50</td>\n",
       "      <td>0</td>\n",
       "      <td>0</td>\n",
       "      <td>0</td>\n",
       "      <td>想开了就是幸福，想不开就是痛苦…http://t.cn/RLqzYa1</td>\n",
       "      <td>d38e9bed5d98110dc2489d0d1cac3c2ad38e9bed5d9811...</td>\n",
       "      <td>114</td>\n",
       "      <td>48</td>\n",
       "      <td>...</td>\n",
       "      <td>22.8</td>\n",
       "      <td>9.6</td>\n",
       "      <td>0.0</td>\n",
       "      <td>0.0</td>\n",
       "      <td>17.085106</td>\n",
       "      <td>5.680851</td>\n",
       "      <td>1</td>\n",
       "      <td>0</td>\n",
       "      <td>19</td>\n",
       "      <td>4.0</td>\n",
       "    </tr>\n",
       "    <tr>\n",
       "      <th>2</th>\n",
       "      <td>d38e9bed5d98110dc2489d0d1cac3c2a</td>\n",
       "      <td>4fedf3888b1e16592f0e0bdc8b393845</td>\n",
       "      <td>2015-03-14 21:22:57</td>\n",
       "      <td>0</td>\n",
       "      <td>0</td>\n",
       "      <td>0</td>\n",
       "      <td>300419浩丰科技#股票##股神##股市##炒股##财经##理财##投资# 股票庄家，要求...</td>\n",
       "      <td>d38e9bed5d98110dc2489d0d1cac3c2ad38e9bed5d9811...</td>\n",
       "      <td>114</td>\n",
       "      <td>48</td>\n",
       "      <td>...</td>\n",
       "      <td>22.8</td>\n",
       "      <td>9.6</td>\n",
       "      <td>0.0</td>\n",
       "      <td>0.0</td>\n",
       "      <td>17.085106</td>\n",
       "      <td>5.680851</td>\n",
       "      <td>6</td>\n",
       "      <td>1</td>\n",
       "      <td>21</td>\n",
       "      <td>4.0</td>\n",
       "    </tr>\n",
       "    <tr>\n",
       "      <th>3</th>\n",
       "      <td>d38e9bed5d98110dc2489d0d1cac3c2a</td>\n",
       "      <td>91be0b8612265aae32725cd4fa80b222</td>\n",
       "      <td>2015-06-18 16:25:36</td>\n",
       "      <td>0</td>\n",
       "      <td>0</td>\n",
       "      <td>0</td>\n",
       "      <td>女性被人占便宜从来不生气，是什么心态？http://t.cn/R2n2pRz</td>\n",
       "      <td>d38e9bed5d98110dc2489d0d1cac3c2ad38e9bed5d9811...</td>\n",
       "      <td>114</td>\n",
       "      <td>48</td>\n",
       "      <td>...</td>\n",
       "      <td>22.8</td>\n",
       "      <td>9.6</td>\n",
       "      <td>0.0</td>\n",
       "      <td>0.0</td>\n",
       "      <td>17.085106</td>\n",
       "      <td>5.680851</td>\n",
       "      <td>4</td>\n",
       "      <td>0</td>\n",
       "      <td>16</td>\n",
       "      <td>3.0</td>\n",
       "    </tr>\n",
       "    <tr>\n",
       "      <th>4</th>\n",
       "      <td>d38e9bed5d98110dc2489d0d1cac3c2a</td>\n",
       "      <td>bd2af99ecf1298f5539f0ddfcdd3ed64</td>\n",
       "      <td>2015-02-23 17:35:31</td>\n",
       "      <td>0</td>\n",
       "      <td>0</td>\n",
       "      <td>0</td>\n",
       "      <td>网宿科技(sz300017)#股票##炒股##财经##理财##投资#推荐包赢股，盈利对半分成...</td>\n",
       "      <td>d38e9bed5d98110dc2489d0d1cac3c2ad38e9bed5d9811...</td>\n",
       "      <td>114</td>\n",
       "      <td>48</td>\n",
       "      <td>...</td>\n",
       "      <td>22.8</td>\n",
       "      <td>9.6</td>\n",
       "      <td>0.0</td>\n",
       "      <td>0.0</td>\n",
       "      <td>17.085106</td>\n",
       "      <td>5.680851</td>\n",
       "      <td>1</td>\n",
       "      <td>0</td>\n",
       "      <td>17</td>\n",
       "      <td>3.0</td>\n",
       "    </tr>\n",
       "  </tbody>\n",
       "</table>\n",
       "<p>5 rows × 30 columns</p>\n",
       "</div>"
      ],
      "text/plain": [
       "                            user_id                          weibo_id  \\\n",
       "0  d38e9bed5d98110dc2489d0d1cac3c2a  7d45833d9865727a88b960b0603c19f6   \n",
       "1  d38e9bed5d98110dc2489d0d1cac3c2a  00755196c77936bf44656ada98291c59   \n",
       "2  d38e9bed5d98110dc2489d0d1cac3c2a  4fedf3888b1e16592f0e0bdc8b393845   \n",
       "3  d38e9bed5d98110dc2489d0d1cac3c2a  91be0b8612265aae32725cd4fa80b222   \n",
       "4  d38e9bed5d98110dc2489d0d1cac3c2a  bd2af99ecf1298f5539f0ddfcdd3ed64   \n",
       "\n",
       "                  time  repost  comments  likes  \\\n",
       "0  2015-02-23 17:41:29       0         0      0   \n",
       "1  2015-07-13 19:24:50       0         0      0   \n",
       "2  2015-03-14 21:22:57       0         0      0   \n",
       "3  2015-06-18 16:25:36       0         0      0   \n",
       "4  2015-02-23 17:35:31       0         0      0   \n",
       "\n",
       "                                                text  \\\n",
       "0  丽江旅游(sz002033)#股票##炒股##财经##理财##投资#推荐包赢股，盈利对半分成...   \n",
       "1                想开了就是幸福，想不开就是痛苦…http://t.cn/RLqzYa1   \n",
       "2  300419浩丰科技#股票##股神##股市##炒股##财经##理财##投资# 股票庄家，要求...   \n",
       "3             女性被人占便宜从来不生气，是什么心态？http://t.cn/R2n2pRz   \n",
       "4  网宿科技(sz300017)#股票##炒股##财经##理财##投资#推荐包赢股，盈利对半分成...   \n",
       "\n",
       "                                     number_in_train  forward_max  \\\n",
       "0  d38e9bed5d98110dc2489d0d1cac3c2ad38e9bed5d9811...          114   \n",
       "1  d38e9bed5d98110dc2489d0d1cac3c2ad38e9bed5d9811...          114   \n",
       "2  d38e9bed5d98110dc2489d0d1cac3c2ad38e9bed5d9811...          114   \n",
       "3  d38e9bed5d98110dc2489d0d1cac3c2ad38e9bed5d9811...          114   \n",
       "4  d38e9bed5d98110dc2489d0d1cac3c2ad38e9bed5d9811...          114   \n",
       "\n",
       "   comment_max  ...  max_f/l  max_c/l  min_f/l  min_c/l   mean_f/l  mean_c/l  \\\n",
       "0           48  ...     22.8      9.6      0.0      0.0  17.085106  5.680851   \n",
       "1           48  ...     22.8      9.6      0.0      0.0  17.085106  5.680851   \n",
       "2           48  ...     22.8      9.6      0.0      0.0  17.085106  5.680851   \n",
       "3           48  ...     22.8      9.6      0.0      0.0  17.085106  5.680851   \n",
       "4           48  ...     22.8      9.6      0.0      0.0  17.085106  5.680851   \n",
       "\n",
       "   time_weekday  time_weekend  time_hour  panduan  \n",
       "0             1             0         17      3.0  \n",
       "1             1             0         19      4.0  \n",
       "2             6             1         21      4.0  \n",
       "3             4             0         16      3.0  \n",
       "4             1             0         17      3.0  \n",
       "\n",
       "[5 rows x 30 columns]"
      ]
     },
     "execution_count": 4,
     "metadata": {},
     "output_type": "execute_result"
    }
   ],
   "source": [
    "def process_time(data):\n",
    "    data['time_date']=data['time'].apply(lambda x: datetime.datetime.strptime(x,\"%Y-%m-%d %H:%M:%S\").date())\n",
    "###求星期几\n",
    "    data['time_weekday']=data['time_date'].apply(lambda x: x.weekday())+1\n",
    "    data['time_weekend1']=((data['time_weekday']==6))\n",
    "    data['time_weekend2']=((data['time_weekday']==7))\n",
    "    #data['time_weekend']=(data.loc[1,'time_weekend1'])or(data.loc[1,'time_weekend2'])\n",
    "    ###计算是否为周末\n",
    "    data['time_weekend']=pd.DataFrame({'time_weekend':list(map(lambda x, y: 1 if x|y else 0, data['time_weekend1'],data['time_weekend2']))})\n",
    "###求发博时间段，由于作息不同，故时间段有交叉\n",
    "    data['time_hour']=data['time'].apply(lambda x: datetime.datetime.strptime(x,\"%Y-%m-%d %H:%M:%S\").hour)\n",
    "    data.loc[data.apply(lambda data:(data['time_hour']>-1)and(data['time_hour']<6), axis=1), 'panduan']=1   \n",
    "    data.loc[data.apply(lambda data:(data['time_hour']>5)and(data['time_hour']<12), axis=1), 'panduan']=2\n",
    "    data.loc[data.apply(lambda data:(data['time_hour']>11)and(data['time_hour']<18), axis=1), 'panduan']=3 \n",
    "    data.loc[data.apply(lambda data:(data['time_hour']>17)and(data['time_hour']<24), axis=1), 'panduan']=4\n",
    "    data.drop(['time_date','time_weekend1','time_weekend2'],axis=1, inplace=True)\n",
    "    return data\n",
    "\n",
    "data=process_time(data)\n",
    "data.head()"
   ]
  },
  {
   "cell_type": "markdown",
   "metadata": {},
   "source": [
    "# 三、微博文本特征 by 陈永乔"
   ]
  },
  {
   "cell_type": "code",
   "execution_count": 5,
   "metadata": {},
   "outputs": [],
   "source": [
    "#a. 微博原始长度\n",
    "f=lambda x:len(str(x))\n",
    "data['length_all']=data['text'].map(f)"
   ]
  },
  {
   "cell_type": "code",
   "execution_count": 6,
   "metadata": {},
   "outputs": [],
   "source": [
    "#a. 微博中文长度\n",
    "def count_chinese(text):\n",
    "    text=str(text)\n",
    "    num=0\n",
    "    for s in text:\n",
    "        if '\\u4e00' <= s <= '\\u9fff':\n",
    "            num+=1\n",
    "    return num\n",
    "data['length_chinese']=data['text'].map(count_chinese)"
   ]
  },
  {
   "cell_type": "code",
   "execution_count": 7,
   "metadata": {},
   "outputs": [],
   "source": [
    "#b. 是否为英文内容，字数一般以上是英文字母，则该微博是英文\n",
    "def is_en(text):\n",
    "    text=str(text)\n",
    "    num=0\n",
    "    for s in text:\n",
    "        if s in string.ascii_letters:\n",
    "            num+=1\n",
    "    if num>len(text)*0.5:\n",
    "        return 1\n",
    "    else:\n",
    "        return 0\n",
    "    \n",
    "data['english']=data['text'].map(is_en)"
   ]
  },
  {
   "cell_type": "code",
   "execution_count": 8,
   "metadata": {},
   "outputs": [],
   "source": [
    "#b. 是否为非中文内容\n",
    "def Non_ch(text):\n",
    "    text=str(text)\n",
    "    num=0\n",
    "    for s in text:\n",
    "        if '\\u4e00' <= s <= '\\u9fff':\n",
    "            num+=1\n",
    "    if num==0:\n",
    "        return 1\n",
    "    else:\n",
    "        return 0\n",
    "data['non_ch']=data['text'].map(Non_ch)"
   ]
  },
  {
   "cell_type": "code",
   "execution_count": 9,
   "metadata": {},
   "outputs": [],
   "source": [
    "#d.是否为分享\n",
    "def is_sharing(text):\n",
    "    text=str(text)\n",
    "    if re.findall(r'分享',text,re.I):\n",
    "        return 1\n",
    "    if re.findall(r'推荐',text,re.I):\n",
    "        return 1\n",
    "    return 0\n",
    "data['sharing']=data['text'].map(is_sharing)"
   ]
  },
  {
   "cell_type": "code",
   "execution_count": 10,
   "metadata": {},
   "outputs": [],
   "source": [
    "#e. 是否为回复自动发博(文本中包含'我...了'和'@'或网页链接)\n",
    "def is_auto(text):\n",
    "    text_1=str(text)\n",
    "    text=np.array(list(str(text)))\n",
    "    flag_1=0  #是否包含'我...了'\n",
    "    flag_2=0  #是否包含'@'\n",
    "    flag_3=0  #是否包含http\n",
    "    if re.findall(r'我.+了',text_1,re.I):\n",
    "        flag_1=1   \n",
    "    if re.findall(r'@',text_1,re.I):\n",
    "        flag_2=1    \n",
    "    if re.findall(r'http',text_1,re.I):\n",
    "        flag_3=1\n",
    "    if flag_1*(flag_2+flag_3)>=1:\n",
    "        return 1\n",
    "    else:\n",
    "        return 0\n",
    "data['auto']=data['text'].map(is_auto)"
   ]
  },
  {
   "cell_type": "code",
   "execution_count": 11,
   "metadata": {},
   "outputs": [],
   "source": [
    "#f. 是否为互动内容（是否包含'//'，但要考虑网页链接中的'//'）\n",
    "def is_interaction(text):\n",
    "    text=str(text)\n",
    "    num_1=len(re.findall(r'//',text,re.I))\n",
    "    num_2=len(re.findall(r'http',text,re.I))\n",
    "    if num_1>num_2:\n",
    "        return 1\n",
    "    else:\n",
    "        return 0\n",
    "data['interaction']=data['text'].map(is_interaction)"
   ]
  },
  {
   "cell_type": "code",
   "execution_count": 12,
   "metadata": {},
   "outputs": [],
   "source": [
    "#g. 是否包含书名号《》\n",
    "def is_book(text):\n",
    "    text=str(text)\n",
    "    if re.findall(r'《.+》',text,re.I):\n",
    "        return 1\n",
    "    else:\n",
    "        return 0\n",
    "data['book']=data['text'].map(is_book)"
   ]
  },
  {
   "cell_type": "code",
   "execution_count": 13,
   "metadata": {},
   "outputs": [],
   "source": [
    "#h. 是否包含@\n",
    "def is_mention(text):\n",
    "    text=str(text)\n",
    "    if re.findall(r'@',text,re.I):\n",
    "        return 1\n",
    "    else:\n",
    "        return 0\n",
    "data['mention']=data['text'].map(is_mention)"
   ]
  },
  {
   "cell_type": "code",
   "execution_count": 14,
   "metadata": {},
   "outputs": [],
   "source": [
    "#i. 是否包含投票\n",
    "def is_vote(text):\n",
    "    text=str(text)\n",
    "    if re.findall(r'投票',text,re.I):\n",
    "        return 1\n",
    "    else:\n",
    "        return 0\n",
    "data['vote']=data['text'].map(is_vote)"
   ]
  },
  {
   "cell_type": "code",
   "execution_count": 15,
   "metadata": {},
   "outputs": [],
   "source": [
    "#j. 是否包含抽奖\n",
    "def is_lottery(text):\n",
    "    text=str(text)\n",
    "    if re.findall(r'抽[奖到中]',text,re.I):\n",
    "        return 1\n",
    "    if re.findall(r'[奖礼]品',text,re.I):\n",
    "        return 1\n",
    "    if re.findall(r'[好大]礼',text,re.I):\n",
    "        return 1\n",
    "    if re.findall(r'[赢领]取',text,re.I):\n",
    "        return 1\n",
    "    return 0\n",
    "data['lottery']=data['text'].map(is_lottery)"
   ]
  },
  {
   "cell_type": "code",
   "execution_count": 16,
   "metadata": {},
   "outputs": [],
   "source": [
    "#k. 是否包含表情\n",
    "def is_emoji(text):\n",
    "    text=str(text)\n",
    "    if re.findall(r'\\[.+\\]',text,re.I):\n",
    "        return 1\n",
    "    else:\n",
    "        return 0\n",
    "data['emoji']=data['text'].map(is_emoji)"
   ]
  },
  {
   "cell_type": "code",
   "execution_count": 17,
   "metadata": {},
   "outputs": [],
   "source": [
    "#L.是否包含视频\n",
    "def is_video(text):\n",
    "    text=str(text)\n",
    "    if re.findall(r'【视频',text,re.I):\n",
    "        return 1\n",
    "    return 0\n",
    "data['video']=data['text'].map(is_video)"
   ]
  },
  {
   "cell_type": "code",
   "execution_count": 18,
   "metadata": {},
   "outputs": [],
   "source": [
    "#M.是否包含链接\n",
    "def is_http(text):\n",
    "    text=str(text)\n",
    "    if re.findall(r'http',text,re.I):\n",
    "        return 1\n",
    "    return 0\n",
    "data['http']=data['text'].map(is_http)"
   ]
  },
  {
   "cell_type": "markdown",
   "metadata": {},
   "source": [
    "# 四、微博文本特征 by 欧阳"
   ]
  },
  {
   "cell_type": "code",
   "execution_count": 19,
   "metadata": {},
   "outputs": [],
   "source": [
    "# n. 是否存在第三方平台互动消息（“我在#xxx”）\n",
    "data['app'] = data.text.apply(lambda x: 1 if '我' in str(x) else 0) # str to convert string in numbers into strings"
   ]
  },
  {
   "cell_type": "code",
   "execution_count": 20,
   "metadata": {},
   "outputs": [],
   "source": [
    "# o. 是否包含【】/是否有标题（很可能是新闻）\n",
    "data['title'] = data.text.apply(lambda x: 1 if str(x)[0] == '【' else 0) "
   ]
  },
  {
   "cell_type": "code",
   "execution_count": 21,
   "metadata": {},
   "outputs": [],
   "source": [
    "# q. 是否包含广告\n",
    "ad_keywords = ['天猫', '淘宝', '京东','当当','唯品会','唯品会','红包','购物券', '折扣', '优惠']\n",
    "data['ad'] = data.text.apply(lambda x: 1 if any( keyword in str(x) for keyword in ad_keywords) else 0) # list generator"
   ]
  },
  {
   "cell_type": "code",
   "execution_count": 22,
   "metadata": {},
   "outputs": [],
   "source": [
    "# r. 是否包含百度热词\n",
    "baidu_hot_words = ['2015阅兵', '奔跑吧兄弟', '花干骨', 'duang', 'DUANG', '毕福剑', '完美世界', '清华大学', '九寨沟', '天津爆炸', '快乐大本营', \\\n",
    "                   '校花的贴身高手', '车震', '金星', '大主宰', '武汉大学', '泰山', '全面开放二孩政策', 'running man','Running Man','Running man',\\\n",
    "                   'RUNNING MAN', '盗墓笔记', '萌萌哒', '王思聪', '淘宝', '厦门大学', '颐和园', '优衣库事件', '最强大脑', '何以笙箫默', '然并卵', \\\n",
    "                   '叶良辰', '百度', '北京大学', '故宫', '毕福剑违纪', '极限挑战', '斗鱼', '有钱就是任性', '昆凌', '我欲封天', '中山大学', '华山', \\\n",
    "                   'a股保卫战','A股保卫战', '欢乐喜剧人', '琅琊榜', '不做死就不会死', '刘雯', '双色球开奖结果', '中南大学', '北戴河', '人民币贬值', \\\n",
    "                   '天天向上', '克拉恋人', '小鲜肉', '章泽天', 'qq', 'QQ', '复旦大学', '普陀山', '2015苹果发布会', '中国好声音', '旋风少年', '绿茶婊', \\\n",
    "                   '马云', '微信', '山东大学', '五台山', '另一个地球可能发现', '康熙来了', '终极教师', '壕', '宁泽涛', '花千骨', '浙江大学', '峨眉山', \\\n",
    "                   '日本8.5级地震', '奇葩说', '武媚娘传奇', '我也是醉了', '柴静', '双色球', '西南大学', '云台山']\n",
    "data['hotwords'] = data.text.apply(lambda x: 1 if any( keyword in str(x) for keyword in baidu_hot_words) else 0) # list generator"
   ]
  },
  {
   "cell_type": "code",
   "execution_count": 3,
   "metadata": {},
   "outputs": [
    {
     "name": "stderr",
     "output_type": "stream",
     "text": [
      "Building prefix dict from the default dictionary ...\n",
      "Loading model from cache C:\\Users\\oyrx\\AppData\\Local\\Temp\\jieba.cache\n",
      "Loading model cost 0.688 seconds.\n",
      "Prefix dict has been built succesfully.\n"
     ]
    }
   ],
   "source": [
    "# 是否包含高互动微博关键词\n",
    "import jieba\n",
    "import jieba.analyse\n",
    "\n",
    "\n",
    "threshold = 5 # approximately 20%\n",
    "# data[(data['repost'] > threshold) & (data['comments'] > threshold) & (data['likes'] > threshold)].head(2)\n",
    "content = data[(data['repost'] > threshold) & \\\n",
    "               (data['comments'] > threshold) & \\\n",
    "               (data['likes'] > threshold)]['text'].to_string( index = False, header = False) # 高互动量微博\n",
    "# jieba.analyse.set_stop_words('stoped.txt') # do not remove any meaningless words for 1st model \n",
    "keywords = jieba.analyse.extract_tags(content, topK=500)\n",
    "data['keywords'] = data.text.apply(lambda x: 1 if any( keyword in str(x) for keyword in keywords) else 0) # list generator\n"
   ]
  },
  {
   "cell_type": "code",
   "execution_count": 7,
   "metadata": {},
   "outputs": [
    {
     "data": {
      "text/html": [
       "<div>\n",
       "<style scoped>\n",
       "    .dataframe tbody tr th:only-of-type {\n",
       "        vertical-align: middle;\n",
       "    }\n",
       "\n",
       "    .dataframe tbody tr th {\n",
       "        vertical-align: top;\n",
       "    }\n",
       "\n",
       "    .dataframe thead th {\n",
       "        text-align: right;\n",
       "    }\n",
       "</style>\n",
       "<table border=\"1\" class=\"dataframe\">\n",
       "  <thead>\n",
       "    <tr style=\"text-align: right;\">\n",
       "      <th></th>\n",
       "      <th>user_id</th>\n",
       "      <th>weibo_id</th>\n",
       "      <th>time</th>\n",
       "      <th>repost</th>\n",
       "      <th>comments</th>\n",
       "      <th>likes</th>\n",
       "      <th>text</th>\n",
       "      <th>keywords</th>\n",
       "    </tr>\n",
       "  </thead>\n",
       "  <tbody>\n",
       "    <tr>\n",
       "      <td>0</td>\n",
       "      <td>d38e9bed5d98110dc2489d0d1cac3c2a</td>\n",
       "      <td>7d45833d9865727a88b960b0603c19f6</td>\n",
       "      <td>2015-02-23 17:41:29</td>\n",
       "      <td>0</td>\n",
       "      <td>0</td>\n",
       "      <td>0</td>\n",
       "      <td>丽江旅游(sz002033)#股票##炒股##财经##理财##投资#推荐包赢股，盈利对半分成...</td>\n",
       "      <td>1</td>\n",
       "    </tr>\n",
       "    <tr>\n",
       "      <td>1</td>\n",
       "      <td>fa13974743d3fe6ff40d21b872325e9e</td>\n",
       "      <td>8169f1d45051e08ef213bf1106b1225d</td>\n",
       "      <td>2015-02-14 12:49:58</td>\n",
       "      <td>0</td>\n",
       "      <td>0</td>\n",
       "      <td>0</td>\n",
       "      <td>#丁辰灵的红包#挣钱是一种能力，抢红包拼的是技术。我抢到了丁辰灵 和@阚洪岩 一起发出的现金...</td>\n",
       "      <td>1</td>\n",
       "    </tr>\n",
       "    <tr>\n",
       "      <td>2</td>\n",
       "      <td>da534fe87e7a52777bee5c30573ed5fd</td>\n",
       "      <td>68cd0258c31c2c525f94febea2d9523b</td>\n",
       "      <td>2015-03-31 13:58:06</td>\n",
       "      <td>0</td>\n",
       "      <td>0</td>\n",
       "      <td>0</td>\n",
       "      <td>淘宝网这些傻逼。。。气的劳资有火没地儿发~尼玛，你们都瞎了</td>\n",
       "      <td>1</td>\n",
       "    </tr>\n",
       "    <tr>\n",
       "      <td>3</td>\n",
       "      <td>e06a22b7e065e559a1f0bf7841a85c51</td>\n",
       "      <td>00b9f86b4915aedb7db943c54fd19d59</td>\n",
       "      <td>2015-06-11 20:39:57</td>\n",
       "      <td>0</td>\n",
       "      <td>4</td>\n",
       "      <td>3</td>\n",
       "      <td>看点不能说的，你们都懂[笑cry]</td>\n",
       "      <td>1</td>\n",
       "    </tr>\n",
       "    <tr>\n",
       "      <td>4</td>\n",
       "      <td>f9828598f9664d4e347ef2048ce17734</td>\n",
       "      <td>c7f6f66044c0c5a3330e2c5371be6824</td>\n",
       "      <td>2015-03-10 18:02:38</td>\n",
       "      <td>0</td>\n",
       "      <td>0</td>\n",
       "      <td>0</td>\n",
       "      <td>111多张</td>\n",
       "      <td>1</td>\n",
       "    </tr>\n",
       "  </tbody>\n",
       "</table>\n",
       "</div>"
      ],
      "text/plain": [
       "                            user_id                          weibo_id  \\\n",
       "0  d38e9bed5d98110dc2489d0d1cac3c2a  7d45833d9865727a88b960b0603c19f6   \n",
       "1  fa13974743d3fe6ff40d21b872325e9e  8169f1d45051e08ef213bf1106b1225d   \n",
       "2  da534fe87e7a52777bee5c30573ed5fd  68cd0258c31c2c525f94febea2d9523b   \n",
       "3  e06a22b7e065e559a1f0bf7841a85c51  00b9f86b4915aedb7db943c54fd19d59   \n",
       "4  f9828598f9664d4e347ef2048ce17734  c7f6f66044c0c5a3330e2c5371be6824   \n",
       "\n",
       "                  time  repost  comments  likes  \\\n",
       "0  2015-02-23 17:41:29       0         0      0   \n",
       "1  2015-02-14 12:49:58       0         0      0   \n",
       "2  2015-03-31 13:58:06       0         0      0   \n",
       "3  2015-06-11 20:39:57       0         4      3   \n",
       "4  2015-03-10 18:02:38       0         0      0   \n",
       "\n",
       "                                                text  keywords  \n",
       "0  丽江旅游(sz002033)#股票##炒股##财经##理财##投资#推荐包赢股，盈利对半分成...         1  \n",
       "1  #丁辰灵的红包#挣钱是一种能力，抢红包拼的是技术。我抢到了丁辰灵 和@阚洪岩 一起发出的现金...         1  \n",
       "2                      淘宝网这些傻逼。。。气的劳资有火没地儿发~尼玛，你们都瞎了         1  \n",
       "3                                  看点不能说的，你们都懂[笑cry]         1  \n",
       "4                                              111多张         1  "
      ]
     },
     "execution_count": 7,
     "metadata": {},
     "output_type": "execute_result"
    }
   ],
   "source": [
    "data.head()"
   ]
  },
  {
   "cell_type": "code",
   "execution_count": null,
   "metadata": {},
   "outputs": [],
   "source": [
    "df[df['content'].str.contains('程序员') == 1].head(2)"
   ]
  },
  {
   "cell_type": "markdown",
   "metadata": {},
   "source": [
    "# 数据分析"
   ]
  },
  {
   "cell_type": "code",
   "execution_count": 24,
   "metadata": {},
   "outputs": [
    {
     "name": "stdout",
     "output_type": "stream",
     "text": [
      "   forward_count    count\n",
      "0              0  1005745\n",
      "1              1    77348\n",
      "2              2    31415\n",
      "3              3    18198\n",
      "4              4    12083\n"
     ]
    }
   ],
   "source": [
    "#妍戎\n",
    "import matplotlib.pyplot as plt\n",
    "import pandas as pd\n",
    "import numpy as np\n",
    "#不同点赞、评论、转发数的微博数分布\n",
    "#转发数为1，2，3.。。的微博个数\n",
    "data1=data.groupby(['repost']).size()\n",
    "data1=data1.reset_index()\n",
    "data1.columns=['forward_count','count']\n",
    "print (data1.head())"
   ]
  },
  {
   "cell_type": "code",
   "execution_count": 25,
   "metadata": {},
   "outputs": [
    {
     "data": {
      "text/plain": [
       "Text(0.5, 1.0, 'forward_count')"
      ]
     },
     "execution_count": 25,
     "metadata": {},
     "output_type": "execute_result"
    },
    {
     "data": {
      "image/png": "[encoded data removed]",
      "text/plain": [
       "<Figure size 432x288 with 1 Axes>"
      ]
     },
     "metadata": {
      "needs_background": "light"
     },
     "output_type": "display_data"
    }
   ],
   "source": [
    "plt.subplot(3,1,1)\n",
    "plt.axis([0,200,0,1000])\n",
    "plt.plot(data1['forward_count'],data1['count'])\n",
    "plt.title('forward_count')\n",
    "#print (data1.info())"
   ]
  },
  {
   "cell_type": "code",
   "execution_count": 26,
   "metadata": {},
   "outputs": [
    {
     "name": "stdout",
     "output_type": "stream",
     "text": [
      "   like_count   count\n",
      "0           0  917453\n",
      "1           1  126172\n",
      "2           2   55991\n",
      "3           3   30530\n",
      "4           4   19227\n"
     ]
    },
    {
     "data": {
      "text/plain": [
       "Text(0.5, 1.0, 'like_count')"
      ]
     },
     "execution_count": 26,
     "metadata": {},
     "output_type": "execute_result"
    },
    {
     "data": {
      "image/png": "[encoded data removed]",
      "text/plain": [
       "<Figure size 432x288 with 1 Axes>"
      ]
     },
     "metadata": {
      "needs_background": "light"
     },
     "output_type": "display_data"
    }
   ],
   "source": [
    "##点赞数为1，2，3.。。的微博个数\n",
    "data2=data.groupby(['likes']).size()\n",
    "data2=data2.reset_index()\n",
    "data2.columns=['like_count','count']\n",
    "print (data2.head())\n",
    "plt.subplot(3,1,2)\n",
    "plt.axis([0,200,0,1000])\n",
    "plt.plot(data2['like_count'],data2['count'])\n",
    "plt.title('like_count')"
   ]
  },
  {
   "cell_type": "code",
   "execution_count": 27,
   "metadata": {},
   "outputs": [
    {
     "name": "stdout",
     "output_type": "stream",
     "text": [
      "   comments_count   count\n",
      "0               0  972026\n",
      "1               1   83059\n",
      "2               2   51624\n",
      "3               3   27468\n",
      "4               4   20262\n"
     ]
    },
    {
     "data": {
      "image/png": "[encoded data removed]",
      "text/plain": [
       "<Figure size 432x288 with 1 Axes>"
      ]
     },
     "metadata": {
      "needs_background": "light"
     },
     "output_type": "display_data"
    }
   ],
   "source": [
    "##评论数为1，2，3.。。的微博个数\n",
    "data3=data.groupby(['comments']).size()\n",
    "data3=data3.reset_index()\n",
    "data3.columns=['comments_count','count']\n",
    "print (data3.head())\n",
    "plt.subplot(3,1,3)\n",
    "plt.axis([0,200,0,1000])\n",
    "plt.plot(data3['comments_count'],data3['count'])\n",
    "plt.title('comments_count')\n",
    "plt.tight_layout() \n",
    "plt.show()"
   ]
  },
  {
   "cell_type": "code",
   "execution_count": 28,
   "metadata": {},
   "outputs": [],
   "source": [
    "data['forward_count']=data1['forward_count']\n",
    "data['like_count']=data2['like_count']\n",
    "data['comments_count']=data3['comments_count']"
   ]
  },
  {
   "cell_type": "code",
   "execution_count": 29,
   "metadata": {},
   "outputs": [
    {
     "name": "stderr",
     "output_type": "stream",
     "text": [
      "//anaconda3/lib/python3.7/site-packages/pandas/core/indexing.py:1494: FutureWarning: \n",
      "Passing list-likes to .loc or [] with any missing label will raise\n",
      "KeyError in the future, you can use .reindex() as an alternative.\n",
      "\n",
      "See the documentation here:\n",
      "https://pandas.pydata.org/pandas-docs/stable/indexing.html#deprecate-loc-reindex-listlike\n",
      "  return self._getitem_tuple(key)\n"
     ]
    },
    {
     "data": {
      "text/plain": [
       "Text(0.5, 1.0, 'weibo_count in weekday')"
      ]
     },
     "execution_count": 29,
     "metadata": {},
     "output_type": "execute_result"
    },
    {
     "data": {
      "image/png": "[encoded data removed]",
      "text/plain": [
       "<Figure size 504x720 with 1 Axes>"
      ]
     },
     "metadata": {},
     "output_type": "display_data"
    }
   ],
   "source": [
    "#发博时间\n",
    "#周一-周日的发博次数\n",
    "data=data.loc[:,['time_weekday','forward_count','like_count','comment_count']]\n",
    "data1=data.groupby(['time_weekday']).size()\n",
    "data1=data1.reset_index()\n",
    "data1.columns=['time_weekday','count']\n",
    "plt.figure(figsize=(7, 10), facecolor='#FFFFFF')\n",
    "plt.subplot(3,1,1)\n",
    "plt.bar(data1['time_weekday'],data1['count'])\n",
    "plt.title('weibo_count in weekday') "
   ]
  },
  {
   "cell_type": "code",
   "execution_count": 30,
   "metadata": {},
   "outputs": [
    {
     "name": "stdout",
     "output_type": "stream",
     "text": [
      "   time_weekday  forward_mean  comment_mean   like_mean\n",
      "0             1   1218.457447           NaN  845.451064\n",
      "1             2   1032.128571           NaN  802.360656\n",
      "2             3   1367.670732           NaN  825.794118\n",
      "3             4   1342.059211           NaN  889.895652\n",
      "4             5   1394.134884           NaN  886.860465\n",
      "5             6    919.925620           NaN  820.704762\n",
      "6             7   1525.239521           NaN  804.165414\n"
     ]
    },
    {
     "data": {
      "text/plain": [
       "<matplotlib.legend.Legend at 0x1a173e04a8>"
      ]
     },
     "execution_count": 30,
     "metadata": {},
     "output_type": "execute_result"
    },
    {
     "data": {
      "image/png": "[encoded data removed]",
      "text/plain": [
       "<Figure size 432x288 with 1 Axes>"
      ]
     },
     "metadata": {
      "needs_background": "light"
     },
     "output_type": "display_data"
    }
   ],
   "source": [
    "#周一-周日的发博的点赞中位数，平均值\n",
    "data2=data.groupby(['time_weekday']).agg({'forward_count':np.mean,'comment_count':np.mean,'like_count':np.mean})\n",
    "data2=data2.reset_index()\n",
    "data2.columns=['time_weekday','forward_mean','comment_mean','like_mean']\n",
    "print (data2)\n",
    "plt.subplot(3,1,2)\n",
    "plt.plot(data2['time_weekday'],data2['forward_mean'],label='forward_mean',color='red')\n",
    "plt.plot(data2['time_weekday'],data2['like_mean'],label='like_mean',color='green')\n",
    "plt.plot(data2['time_weekday'],data2['comment_mean'],label='comment_mean',color='blue')\n",
    "plt.title('behavior_mean in weekday')  \n",
    "plt.legend()"
   ]
  },
  {
   "cell_type": "code",
   "execution_count": 8,
   "metadata": {},
   "outputs": [
    {
     "name": "stdout",
     "output_type": "stream",
     "text": [
      "   forward_max  count\n",
      "0          0.0  25297\n",
      "1          1.0   4681\n",
      "2          2.0   1663\n",
      "3          3.0    875\n",
      "4          4.0    509\n"
     ]
    },
    {
     "data": {
      "image/png": "[encoded data removed]",
      "text/plain": [
       "<Figure size 432x288 with 3 Axes>"
      ]
     },
     "metadata": {
      "needs_background": "light"
     },
     "output_type": "display_data"
    }
   ],
   "source": [
    "## 用户最大的点赞、评论、转发数的用户频数分布\n",
    "data=data.drop_duplicates(['user_id'])\n",
    "data=data.loc[:,['user_id','forward_max','comment_max','like_max']]\n",
    "data1=data.groupby(['forward_max']).size()\n",
    "data1=data1.reset_index()\n",
    "data1.columns=['forward_max','count']\n",
    "print (data1.head())\n",
    "plt.subplot(3,1,1)\n",
    "plt.axis([0,100,0,1000])\n",
    "plt.plot(data1['forward_max'],data1['count'])\n",
    "plt.title('forward_max')   \n",
    "\n",
    "data2=data.groupby(['like_max']).size()\n",
    "data2=data2.reset_index()\n",
    "data2.columns=['like_max','count']\n",
    "plt.subplot(3,1,2)\n",
    "plt.axis([0,100,0,1000])\n",
    "plt.plot(data2['like_max'],data2['count'])\n",
    "plt.title('like_max')   \n",
    "\n",
    "data3=data.groupby(['comment_max']).size()\n",
    "data3=data3.reset_index()\n",
    "data3.columns=['comment_max','count'] \n",
    "plt.subplot(3,1,3)\n",
    "plt.axis([0,100,0,1000])\n",
    "plt.plot(data3['comment_max'],data3['count'])\n",
    "plt.title('comment_max')  \n",
    "plt.tight_layout() \n",
    "plt.show()"
   ]
  },
  {
   "cell_type": "code",
   "execution_count": null,
   "metadata": {},
   "outputs": [],
   "source": []
  },
  {
   "cell_type": "code",
   "execution_count": null,
   "metadata": {},
   "outputs": [],
   "source": []
  },
  {
   "cell_type": "code",
   "execution_count": null,
   "metadata": {},
   "outputs": [],
   "source": []
  },
  {
   "cell_type": "code",
   "execution_count": null,
   "metadata": {},
   "outputs": [],
   "source": []
  }
 ],
 "metadata": {
  "kernelspec": {
   "display_name": "Python 3",
   "language": "python",
   "name": "python3"
  },
  "language_info": {
   "codemirror_mode": {
    "name": "ipython",
    "version": 3
   },
   "file_extension": ".py",
   "mimetype": "text/x-python",
   "name": "python",
   "nbconvert_exporter": "python",
   "pygments_lexer": "ipython3",
   "version": "3.7.4"
  }
 },
 "nbformat": 4,
 "nbformat_minor": 4
}
