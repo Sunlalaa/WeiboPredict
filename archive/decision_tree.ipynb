{
 "cells": [
  {
   "cell_type": "code",
   "execution_count": 4,
   "metadata": {},
   "outputs": [],
   "source": [
    "import pandas as pd \n",
    "import numpy as np\n",
    "from sklearn.tree import DecisionTreeRegressor\n",
    "from sklearn import tree\n",
    "from sklearn.preprocessing import StandardScaler\n",
    "from sklearn.preprocessing import MinMaxScaler"
   ]
  },
  {
   "cell_type": "code",
   "execution_count": 5,
   "metadata": {},
   "outputs": [],
   "source": [
    "data_train=pd.read_csv('data_train.txt',index_col=[0],header=0)\n",
    "data_valid=pd.read_csv('data_valid.txt',index_col=[0],header=0)"
   ]
  },
  {
   "cell_type": "code",
   "execution_count": 7,
   "metadata": {},
   "outputs": [
    {
     "data": {
      "text/plain": [
       "Index(['user_id', 'weibo_id', 'time', 'repost', 'comments', 'likes', 'tfidf',\n",
       "       'text', 'number_in_train', 'forward_max', 'comment_max', 'like_max',\n",
       "       'forward_min', 'comment_min', 'like_min', 'forward_mean',\n",
       "       'comment_mean', 'like_mean', 'forward_more_ave_pr',\n",
       "       'comment_more_ave_pr', 'like_more_ave_pr', 'max_f/l', 'max_c/l',\n",
       "       'min_f/l', 'min_c/l', 'mean_f/l', 'mean_c/l', 'time_weekday',\n",
       "       'time_weekend', 'time_hour', 'panduan', 'length_all', 'length_chinese',\n",
       "       'english', 'non_ch', 'sharing', 'auto', 'interaction', 'book',\n",
       "       'mention', 'vote', 'lottery', 'emoji', 'video', 'http', 'app', 'title',\n",
       "       'ad', 'hotwords', 'keywords', 'stock', 'is_noise'],\n",
       "      dtype='object')"
      ]
     },
     "execution_count": 7,
     "metadata": {},
     "output_type": "execute_result"
    }
   ],
   "source": [
    "data_train.columns"
   ]
  },
  {
   "cell_type": "code",
   "execution_count": 80,
   "metadata": {},
   "outputs": [],
   "source": [
    "#先筛选两个子集，检测代码\n",
    "train_subset=data_train.loc[:,['repost','comments','likes','tfidf','number_in_train','forward_max','time_weekend','length_chinese','sharing','hotwords', 'keywords','is_noise']]\n",
    "valid_subset=data_valid.loc[:,['repost','comments','likes','tfidf','number_in_train','forward_max','time_weekend','length_chinese','sharing','hotwords', 'keywords','is_noise']]"
   ]
  },
  {
   "cell_type": "code",
   "execution_count": 81,
   "metadata": {},
   "outputs": [],
   "source": [
    "def decision_tree(data_train,data_test,depth,leaf_num,split_num):\n",
    "    data_test['repost_hat']=0\n",
    "    data_test['comments_hat']=0\n",
    "    data_test['likes_hat']=0\n",
    "    \n",
    "    #噪音数据预测值均为0,因此仅处理非噪音数据\n",
    "    train=data_train[data_train['is_noise']==0]\n",
    "    test=data_test[data_test['is_noise']==0]\n",
    "    \n",
    "    #分别对转发，评论和点赞建立三棵树\n",
    "    tree_repost = DecisionTreeRegressor(criterion='mse', min_samples_leaf=leaf_num,max_depth=depth,min_samples_split=split_num)\n",
    "    tree_comments= DecisionTreeRegressor(criterion='mse', min_samples_leaf=leaf_num,max_depth=depth,min_samples_split=split_num)\n",
    "    tree_likes = DecisionTreeRegressor(criterion='mse', min_samples_leaf=leaf_num,max_depth=depth,min_samples_split=split_num)\n",
    "    \n",
    "    #拟合三棵树\n",
    "    regressor_train=train.drop(['repost','comments','likes','is_noise'],axis=1, inplace=False)\n",
    "    repost_train=train.loc[:,['repost']]\n",
    "    comments_train=train.loc[:,['comments']]\n",
    "    likes_train=train.loc[:,['likes']]\n",
    "    predict_repost=tree_repost.fit(regressor_train,repost_train)\n",
    "    predict_comments=tree_comments.fit(regressor_train,comments_train)\n",
    "    predict_likes=tree_likes.fit(regressor_train,likes_train)\n",
    "    \n",
    "    #预测测试集的数据\n",
    "    regressor_test=test.drop(['repost','comments','likes','is_noise','repost_hat','comments_hat','likes_hat'],axis=1, inplace=False)\n",
    "    repost_hat=np.round(predict_repost.predict(regressor_test),0)  #round函数只是返回四舍五入值，是浮点类型\n",
    "    comments_hat=np.round(predict_comments.predict(regressor_test),0)\n",
    "    likes_hat=np.round(predict_likes.predict(regressor_test),0)\n",
    "    \n",
    "    #将预测值赋值并设置为整数值\n",
    "    data_test['repost_hat'][data_test['is_noise']==0]=repost_hat\n",
    "    data_test['comments_hat'][data_test['is_noise']==0]=comments_hat\n",
    "    data_test['likes_hat'][data_test['is_noise']==0]=likes_hat\n",
    "    data_test['repost_hat']=data_test['repost_hat'].apply(lambda x:int(x))\n",
    "    data_test['comments_hat']=data_test['comments_hat'].apply(lambda x:int(x))\n",
    "    data_test['likes_hat']=data_test['likes_hat'].apply(lambda x:int(x))\n",
    "    return data_test    "
   ]
  },
  {
   "cell_type": "code",
   "execution_count": 82,
   "metadata": {},
   "outputs": [
    {
     "name": "stderr",
     "output_type": "stream",
     "text": [
      "E:\\Anaconda\\lib\\site-packages\\ipykernel_launcher.py:31: SettingWithCopyWarning: \n",
      "A value is trying to be set on a copy of a slice from a DataFrame\n",
      "\n",
      "See the caveats in the documentation: http://pandas.pydata.org/pandas-docs/stable/indexing.html#indexing-view-versus-copy\n",
      "E:\\Anaconda\\lib\\site-packages\\ipykernel_launcher.py:32: SettingWithCopyWarning: \n",
      "A value is trying to be set on a copy of a slice from a DataFrame\n",
      "\n",
      "See the caveats in the documentation: http://pandas.pydata.org/pandas-docs/stable/indexing.html#indexing-view-versus-copy\n",
      "E:\\Anaconda\\lib\\site-packages\\ipykernel_launcher.py:33: SettingWithCopyWarning: \n",
      "A value is trying to be set on a copy of a slice from a DataFrame\n",
      "\n",
      "See the caveats in the documentation: http://pandas.pydata.org/pandas-docs/stable/indexing.html#indexing-view-versus-copy\n"
     ]
    }
   ],
   "source": [
    "valid_subset=decision_tree(train_subset,valid_subset,10,10,10)"
   ]
  },
  {
   "cell_type": "code",
   "execution_count": 1,
   "metadata": {},
   "outputs": [
    {
     "ename": "NameError",
     "evalue": "name 'valid_subset' is not defined",
     "output_type": "error",
     "traceback": [
      "\u001b[1;31m---------------------------------------------------------------------------\u001b[0m",
      "\u001b[1;31mNameError\u001b[0m                                 Traceback (most recent call last)",
      "\u001b[1;32m<ipython-input-1-5c3514b66fc8>\u001b[0m in \u001b[0;36m<module>\u001b[1;34m\u001b[0m\n\u001b[1;32m----> 1\u001b[1;33m \u001b[0mvalid_subset\u001b[0m\u001b[1;33m.\u001b[0m\u001b[0mhead\u001b[0m\u001b[1;33m(\u001b[0m\u001b[1;33m)\u001b[0m\u001b[1;33m\u001b[0m\u001b[1;33m\u001b[0m\u001b[0m\n\u001b[0m",
      "\u001b[1;31mNameError\u001b[0m: name 'valid_subset' is not defined"
     ]
    }
   ],
   "source": [
    "valid_subset.head()"
   ]
  },
  {
   "cell_type": "code",
   "execution_count": 84,
   "metadata": {},
   "outputs": [],
   "source": [
    "def precision(data):\n",
    "    data['deviation_repost']=list(map(lambda x, y: abs(x-y)/(y+5), data['repost_hat'],data['repost']))\n",
    "#print (data['deviation_repost'])\n",
    "    data['deviation_likes']=list(map(lambda x, y: abs(x-y)/(y+3), data['likes_hat'],data['likes']))\n",
    "    #print (data['deviation_likes'])\n",
    "    data['deviation_comments']=list(map(lambda x, y: abs(x-y)/(y+3), data['comments_hat'],data['comments']))\n",
    "    #print (data['deviation_comments'])\n",
    "    data['lcf_sum']=data['repost']+data['likes']+data['comments']\n",
    "#    print (data['lcf_sum'])\n",
    "    data['lcf_sum']=data['lcf_sum'].apply(lambda x: 100 if x>100 else x)\n",
    "    data['precision_1_-0.8']=1-0.5*data['deviation_repost']-0.25*data['deviation_likes']-0.25*data['deviation_comments']-0.8\n",
    "    #print (data['precision_1_-0.8'])\n",
    "    data.loc[data['precision_1_-0.8']<=0,'sgn']=0\n",
    "    data.loc[data['precision_1_-0.8']>0,'sgn']=1\n",
    "#    print (data['sgn'])\n",
    "    precision_=sum((data['lcf_sum']+1)*data['sgn'])/sum(data['lcf_sum']+1)\n",
    "\n",
    "    \n",
    "    return precision_"
   ]
  },
  {
   "cell_type": "code",
   "execution_count": 85,
   "metadata": {},
   "outputs": [
    {
     "data": {
      "text/plain": [
       "0.24510481697549288"
      ]
     },
     "execution_count": 85,
     "metadata": {},
     "output_type": "execute_result"
    }
   ],
   "source": [
    "precision(valid_subset)"
   ]
  },
  {
   "cell_type": "code",
   "execution_count": null,
   "metadata": {},
   "outputs": [],
   "source": []
  },
  {
   "cell_type": "code",
   "execution_count": null,
   "metadata": {},
   "outputs": [],
   "source": []
  },
  {
   "cell_type": "code",
   "execution_count": 76,
   "metadata": {},
   "outputs": [
    {
     "data": {
      "text/html": [
       "<div>\n",
       "<style scoped>\n",
       "    .dataframe tbody tr th:only-of-type {\n",
       "        vertical-align: middle;\n",
       "    }\n",
       "\n",
       "    .dataframe tbody tr th {\n",
       "        vertical-align: top;\n",
       "    }\n",
       "\n",
       "    .dataframe thead th {\n",
       "        text-align: right;\n",
       "    }\n",
       "</style>\n",
       "<table border=\"1\" class=\"dataframe\">\n",
       "  <thead>\n",
       "    <tr style=\"text-align: right;\">\n",
       "      <th></th>\n",
       "      <th>repost_hat</th>\n",
       "      <th>comments_hat</th>\n",
       "      <th>likes_hat</th>\n",
       "    </tr>\n",
       "  </thead>\n",
       "  <tbody>\n",
       "    <tr>\n",
       "      <th>5</th>\n",
       "      <td>5</td>\n",
       "      <td>2</td>\n",
       "      <td>0</td>\n",
       "    </tr>\n",
       "    <tr>\n",
       "      <th>14</th>\n",
       "      <td>5</td>\n",
       "      <td>2</td>\n",
       "      <td>0</td>\n",
       "    </tr>\n",
       "    <tr>\n",
       "      <th>56</th>\n",
       "      <td>5</td>\n",
       "      <td>2</td>\n",
       "      <td>0</td>\n",
       "    </tr>\n",
       "    <tr>\n",
       "      <th>57</th>\n",
       "      <td>5</td>\n",
       "      <td>2</td>\n",
       "      <td>0</td>\n",
       "    </tr>\n",
       "    <tr>\n",
       "      <th>73</th>\n",
       "      <td>5</td>\n",
       "      <td>2</td>\n",
       "      <td>0</td>\n",
       "    </tr>\n",
       "    <tr>\n",
       "      <th>97</th>\n",
       "      <td>5</td>\n",
       "      <td>2</td>\n",
       "      <td>0</td>\n",
       "    </tr>\n",
       "  </tbody>\n",
       "</table>\n",
       "</div>"
      ],
      "text/plain": [
       "    repost_hat  comments_hat  likes_hat\n",
       "5            5             2          0\n",
       "14           5             2          0\n",
       "56           5             2          0\n",
       "57           5             2          0\n",
       "73           5             2          0\n",
       "97           5             2          0"
      ]
     },
     "execution_count": 76,
     "metadata": {},
     "output_type": "execute_result"
    }
   ],
   "source": [
    "valid_subset[['repost_hat','comments_hat','likes_hat']][(valid_subset['repost_hat']!=0)&(valid_subset['comments_hat']!=0)]"
   ]
  },
  {
   "cell_type": "code",
   "execution_count": 39,
   "metadata": {},
   "outputs": [
    {
     "data": {
      "text/plain": [
       "0      True\n",
       "1      True\n",
       "2      True\n",
       "3      True\n",
       "4      True\n",
       "5      True\n",
       "6      True\n",
       "7      True\n",
       "8      True\n",
       "9      True\n",
       "10     True\n",
       "11     True\n",
       "12     True\n",
       "13     True\n",
       "14     True\n",
       "15     True\n",
       "16     True\n",
       "17     True\n",
       "18     True\n",
       "19     True\n",
       "20     True\n",
       "21     True\n",
       "22     True\n",
       "23     True\n",
       "24     True\n",
       "25     True\n",
       "26     True\n",
       "27     True\n",
       "28     True\n",
       "29     True\n",
       "       ... \n",
       "71     True\n",
       "72     True\n",
       "73     True\n",
       "74     True\n",
       "75     True\n",
       "76     True\n",
       "77     True\n",
       "78     True\n",
       "79     True\n",
       "80     True\n",
       "81     True\n",
       "82     True\n",
       "83     True\n",
       "84     True\n",
       "85     True\n",
       "86     True\n",
       "87     True\n",
       "88     True\n",
       "89     True\n",
       "90     True\n",
       "91     True\n",
       "92     True\n",
       "93     True\n",
       "94     True\n",
       "95     True\n",
       "96     True\n",
       "97     True\n",
       "98     True\n",
       "99     True\n",
       "100    True\n",
       "Length: 101, dtype: bool"
      ]
     },
     "execution_count": 39,
     "metadata": {},
     "output_type": "execute_result"
    }
   ],
   "source": [
    "(valid_subset['repost_hat']==0) & (valid_subset['comments_hat']==0)"
   ]
  },
  {
   "cell_type": "code",
   "execution_count": null,
   "metadata": {},
   "outputs": [],
   "source": []
  },
  {
   "cell_type": "code",
   "execution_count": null,
   "metadata": {},
   "outputs": [],
   "source": []
  }
 ],
 "metadata": {
  "kernelspec": {
   "display_name": "Python 3",
   "language": "python",
   "name": "python3"
  },
  "language_info": {
   "codemirror_mode": {
    "name": "ipython",
    "version": 3
   },
   "file_extension": ".py",
   "mimetype": "text/x-python",
   "name": "python",
   "nbconvert_exporter": "python",
   "pygments_lexer": "ipython3",
   "version": "3.7.4"
  }
 },
 "nbformat": 4,
 "nbformat_minor": 4
}
